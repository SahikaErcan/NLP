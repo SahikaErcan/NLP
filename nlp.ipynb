{
 "cells": [
  {
   "cell_type": "code",
   "execution_count": 1,
   "id": "8d58155a",
   "metadata": {},
   "outputs": [],
   "source": [
    "import pandas as pd\n",
    "import numpy as np\n",
    "import re\n",
    "from nltk.stem.porter import PorterStemmer # Kelimenin köküne erişebilmek için kullanılır. İngilizce’de en yaygın olanı Porter Stammer’dır."
   ]
  },
  {
   "cell_type": "code",
   "execution_count": 2,
   "id": "b60f40b8",
   "metadata": {},
   "outputs": [
    {
     "data": {
      "text/html": [
       "<div>\n",
       "<style scoped>\n",
       "    .dataframe tbody tr th:only-of-type {\n",
       "        vertical-align: middle;\n",
       "    }\n",
       "\n",
       "    .dataframe tbody tr th {\n",
       "        vertical-align: top;\n",
       "    }\n",
       "\n",
       "    .dataframe thead th {\n",
       "        text-align: right;\n",
       "    }\n",
       "</style>\n",
       "<table border=\"1\" class=\"dataframe\">\n",
       "  <thead>\n",
       "    <tr style=\"text-align: right;\">\n",
       "      <th></th>\n",
       "      <th>_unit_id</th>\n",
       "      <th>_golden</th>\n",
       "      <th>_unit_state</th>\n",
       "      <th>_trusted_judgments</th>\n",
       "      <th>_last_judgment_at</th>\n",
       "      <th>gender</th>\n",
       "      <th>gender:confidence</th>\n",
       "      <th>profile_yn</th>\n",
       "      <th>profile_yn:confidence</th>\n",
       "      <th>created</th>\n",
       "      <th>...</th>\n",
       "      <th>profileimage</th>\n",
       "      <th>retweet_count</th>\n",
       "      <th>sidebar_color</th>\n",
       "      <th>text</th>\n",
       "      <th>tweet_coord</th>\n",
       "      <th>tweet_count</th>\n",
       "      <th>tweet_created</th>\n",
       "      <th>tweet_id</th>\n",
       "      <th>tweet_location</th>\n",
       "      <th>user_timezone</th>\n",
       "    </tr>\n",
       "  </thead>\n",
       "  <tbody>\n",
       "    <tr>\n",
       "      <th>0</th>\n",
       "      <td>815719226</td>\n",
       "      <td>False</td>\n",
       "      <td>finalized</td>\n",
       "      <td>3</td>\n",
       "      <td>10/26/15 23:24</td>\n",
       "      <td>male</td>\n",
       "      <td>1.0000</td>\n",
       "      <td>yes</td>\n",
       "      <td>1.0</td>\n",
       "      <td>12/5/13 1:48</td>\n",
       "      <td>...</td>\n",
       "      <td>https://pbs.twimg.com/profile_images/414342229...</td>\n",
       "      <td>0</td>\n",
       "      <td>FFFFFF</td>\n",
       "      <td>Robbie E Responds To Critics After Win Against...</td>\n",
       "      <td>NaN</td>\n",
       "      <td>110964</td>\n",
       "      <td>10/26/15 12:40</td>\n",
       "      <td>6.587300e+17</td>\n",
       "      <td>main; @Kan1shk3</td>\n",
       "      <td>Chennai</td>\n",
       "    </tr>\n",
       "    <tr>\n",
       "      <th>1</th>\n",
       "      <td>815719227</td>\n",
       "      <td>False</td>\n",
       "      <td>finalized</td>\n",
       "      <td>3</td>\n",
       "      <td>10/26/15 23:30</td>\n",
       "      <td>male</td>\n",
       "      <td>1.0000</td>\n",
       "      <td>yes</td>\n",
       "      <td>1.0</td>\n",
       "      <td>10/1/12 13:51</td>\n",
       "      <td>...</td>\n",
       "      <td>https://pbs.twimg.com/profile_images/539604221...</td>\n",
       "      <td>0</td>\n",
       "      <td>C0DEED</td>\n",
       "      <td>ÛÏIt felt like they were my friends and I was...</td>\n",
       "      <td>NaN</td>\n",
       "      <td>7471</td>\n",
       "      <td>10/26/15 12:40</td>\n",
       "      <td>6.587300e+17</td>\n",
       "      <td>NaN</td>\n",
       "      <td>Eastern Time (US &amp; Canada)</td>\n",
       "    </tr>\n",
       "    <tr>\n",
       "      <th>2</th>\n",
       "      <td>815719228</td>\n",
       "      <td>False</td>\n",
       "      <td>finalized</td>\n",
       "      <td>3</td>\n",
       "      <td>10/26/15 23:33</td>\n",
       "      <td>male</td>\n",
       "      <td>0.6625</td>\n",
       "      <td>yes</td>\n",
       "      <td>1.0</td>\n",
       "      <td>11/28/14 11:30</td>\n",
       "      <td>...</td>\n",
       "      <td>https://pbs.twimg.com/profile_images/657330418...</td>\n",
       "      <td>1</td>\n",
       "      <td>C0DEED</td>\n",
       "      <td>i absolutely adore when louis starts the songs...</td>\n",
       "      <td>NaN</td>\n",
       "      <td>5617</td>\n",
       "      <td>10/26/15 12:40</td>\n",
       "      <td>6.587300e+17</td>\n",
       "      <td>clcncl</td>\n",
       "      <td>Belgrade</td>\n",
       "    </tr>\n",
       "    <tr>\n",
       "      <th>3</th>\n",
       "      <td>815719229</td>\n",
       "      <td>False</td>\n",
       "      <td>finalized</td>\n",
       "      <td>3</td>\n",
       "      <td>10/26/15 23:10</td>\n",
       "      <td>male</td>\n",
       "      <td>1.0000</td>\n",
       "      <td>yes</td>\n",
       "      <td>1.0</td>\n",
       "      <td>6/11/09 22:39</td>\n",
       "      <td>...</td>\n",
       "      <td>https://pbs.twimg.com/profile_images/259703936...</td>\n",
       "      <td>0</td>\n",
       "      <td>C0DEED</td>\n",
       "      <td>Hi @JordanSpieth - Looking at the url - do you...</td>\n",
       "      <td>NaN</td>\n",
       "      <td>1693</td>\n",
       "      <td>10/26/15 12:40</td>\n",
       "      <td>6.587300e+17</td>\n",
       "      <td>Palo Alto, CA</td>\n",
       "      <td>Pacific Time (US &amp; Canada)</td>\n",
       "    </tr>\n",
       "    <tr>\n",
       "      <th>4</th>\n",
       "      <td>815719230</td>\n",
       "      <td>False</td>\n",
       "      <td>finalized</td>\n",
       "      <td>3</td>\n",
       "      <td>10/27/15 1:15</td>\n",
       "      <td>female</td>\n",
       "      <td>1.0000</td>\n",
       "      <td>yes</td>\n",
       "      <td>1.0</td>\n",
       "      <td>4/16/14 13:23</td>\n",
       "      <td>...</td>\n",
       "      <td>https://pbs.twimg.com/profile_images/564094871...</td>\n",
       "      <td>0</td>\n",
       "      <td>0</td>\n",
       "      <td>Watching Neighbours on Sky+ catching up with t...</td>\n",
       "      <td>NaN</td>\n",
       "      <td>31462</td>\n",
       "      <td>10/26/15 12:40</td>\n",
       "      <td>6.587300e+17</td>\n",
       "      <td>NaN</td>\n",
       "      <td>NaN</td>\n",
       "    </tr>\n",
       "  </tbody>\n",
       "</table>\n",
       "<p>5 rows × 26 columns</p>\n",
       "</div>"
      ],
      "text/plain": [
       "    _unit_id  _golden _unit_state  _trusted_judgments _last_judgment_at  \\\n",
       "0  815719226    False   finalized                   3    10/26/15 23:24   \n",
       "1  815719227    False   finalized                   3    10/26/15 23:30   \n",
       "2  815719228    False   finalized                   3    10/26/15 23:33   \n",
       "3  815719229    False   finalized                   3    10/26/15 23:10   \n",
       "4  815719230    False   finalized                   3     10/27/15 1:15   \n",
       "\n",
       "   gender  gender:confidence profile_yn  profile_yn:confidence  \\\n",
       "0    male             1.0000        yes                    1.0   \n",
       "1    male             1.0000        yes                    1.0   \n",
       "2    male             0.6625        yes                    1.0   \n",
       "3    male             1.0000        yes                    1.0   \n",
       "4  female             1.0000        yes                    1.0   \n",
       "\n",
       "          created  ...                                       profileimage  \\\n",
       "0    12/5/13 1:48  ...  https://pbs.twimg.com/profile_images/414342229...   \n",
       "1   10/1/12 13:51  ...  https://pbs.twimg.com/profile_images/539604221...   \n",
       "2  11/28/14 11:30  ...  https://pbs.twimg.com/profile_images/657330418...   \n",
       "3   6/11/09 22:39  ...  https://pbs.twimg.com/profile_images/259703936...   \n",
       "4   4/16/14 13:23  ...  https://pbs.twimg.com/profile_images/564094871...   \n",
       "\n",
       "   retweet_count sidebar_color  \\\n",
       "0              0        FFFFFF   \n",
       "1              0        C0DEED   \n",
       "2              1        C0DEED   \n",
       "3              0        C0DEED   \n",
       "4              0             0   \n",
       "\n",
       "                                                text tweet_coord tweet_count  \\\n",
       "0  Robbie E Responds To Critics After Win Against...         NaN      110964   \n",
       "1  ÛÏIt felt like they were my friends and I was...         NaN        7471   \n",
       "2  i absolutely adore when louis starts the songs...         NaN        5617   \n",
       "3  Hi @JordanSpieth - Looking at the url - do you...         NaN        1693   \n",
       "4  Watching Neighbours on Sky+ catching up with t...         NaN       31462   \n",
       "\n",
       "    tweet_created      tweet_id   tweet_location               user_timezone  \n",
       "0  10/26/15 12:40  6.587300e+17  main; @Kan1shk3                     Chennai  \n",
       "1  10/26/15 12:40  6.587300e+17              NaN  Eastern Time (US & Canada)  \n",
       "2  10/26/15 12:40  6.587300e+17           clcncl                    Belgrade  \n",
       "3  10/26/15 12:40  6.587300e+17    Palo Alto, CA  Pacific Time (US & Canada)  \n",
       "4  10/26/15 12:40  6.587300e+17              NaN                         NaN  \n",
       "\n",
       "[5 rows x 26 columns]"
      ]
     },
     "execution_count": 2,
     "metadata": {},
     "output_type": "execute_result"
    }
   ],
   "source": [
    "data = pd.read_csv('gender_classifier.csv', encoding='latin1')\n",
    "data.head()"
   ]
  },
  {
   "cell_type": "markdown",
   "id": "98a25e8f",
   "metadata": {},
   "source": [
    "* İhtiyacımız olan gender ve description verileridir."
   ]
  },
  {
   "cell_type": "code",
   "execution_count": 3,
   "id": "f45cbed6",
   "metadata": {},
   "outputs": [
    {
     "data": {
      "text/html": [
       "<div>\n",
       "<style scoped>\n",
       "    .dataframe tbody tr th:only-of-type {\n",
       "        vertical-align: middle;\n",
       "    }\n",
       "\n",
       "    .dataframe tbody tr th {\n",
       "        vertical-align: top;\n",
       "    }\n",
       "\n",
       "    .dataframe thead th {\n",
       "        text-align: right;\n",
       "    }\n",
       "</style>\n",
       "<table border=\"1\" class=\"dataframe\">\n",
       "  <thead>\n",
       "    <tr style=\"text-align: right;\">\n",
       "      <th></th>\n",
       "      <th>gender</th>\n",
       "      <th>description</th>\n",
       "    </tr>\n",
       "  </thead>\n",
       "  <tbody>\n",
       "    <tr>\n",
       "      <th>0</th>\n",
       "      <td>male</td>\n",
       "      <td>i sing my own rhythm.</td>\n",
       "    </tr>\n",
       "    <tr>\n",
       "      <th>1</th>\n",
       "      <td>male</td>\n",
       "      <td>I'm the author of novels filled with family dr...</td>\n",
       "    </tr>\n",
       "    <tr>\n",
       "      <th>2</th>\n",
       "      <td>male</td>\n",
       "      <td>louis whining and squealing and all</td>\n",
       "    </tr>\n",
       "  </tbody>\n",
       "</table>\n",
       "</div>"
      ],
      "text/plain": [
       "  gender                                        description\n",
       "0   male                              i sing my own rhythm.\n",
       "1   male  I'm the author of novels filled with family dr...\n",
       "2   male                louis whining and squealing and all"
      ]
     },
     "execution_count": 3,
     "metadata": {},
     "output_type": "execute_result"
    }
   ],
   "source": [
    "data1 = pd.concat([data.gender, data.description], axis=1)\n",
    "data1.head(3)"
   ]
  },
  {
   "cell_type": "code",
   "execution_count": 4,
   "id": "a7f6808f",
   "metadata": {},
   "outputs": [
    {
     "data": {
      "text/plain": [
       "(20050, 2)"
      ]
     },
     "execution_count": 4,
     "metadata": {},
     "output_type": "execute_result"
    }
   ],
   "source": [
    "data1.shape"
   ]
  },
  {
   "cell_type": "code",
   "execution_count": 5,
   "id": "3569e62e",
   "metadata": {},
   "outputs": [
    {
     "name": "stdout",
     "output_type": "stream",
     "text": [
      "<class 'pandas.core.frame.DataFrame'>\n",
      "RangeIndex: 20050 entries, 0 to 20049\n",
      "Data columns (total 2 columns):\n",
      " #   Column       Non-Null Count  Dtype \n",
      "---  ------       --------------  ----- \n",
      " 0   gender       19953 non-null  object\n",
      " 1   description  16306 non-null  object\n",
      "dtypes: object(2)\n",
      "memory usage: 313.4+ KB\n"
     ]
    }
   ],
   "source": [
    "data1.info()"
   ]
  },
  {
   "cell_type": "code",
   "execution_count": 6,
   "id": "fa4212b7",
   "metadata": {},
   "outputs": [
    {
     "data": {
      "text/plain": [
       "gender           97\n",
       "description    3744\n",
       "dtype: int64"
      ]
     },
     "execution_count": 6,
     "metadata": {},
     "output_type": "execute_result"
    }
   ],
   "source": [
    "data1.isnull().sum()"
   ]
  },
  {
   "cell_type": "code",
   "execution_count": 7,
   "id": "759a45dd",
   "metadata": {},
   "outputs": [
    {
     "data": {
      "text/plain": [
       "gender         0\n",
       "description    0\n",
       "dtype: int64"
      ]
     },
     "execution_count": 7,
     "metadata": {},
     "output_type": "execute_result"
    }
   ],
   "source": [
    "data1.dropna(inplace=True)\n",
    "\n",
    "data1.isnull().sum()"
   ]
  },
  {
   "cell_type": "code",
   "execution_count": 8,
   "id": "5dbc6e1b",
   "metadata": {},
   "outputs": [],
   "source": [
    "# silme iişleminden sonra index değerleri bozuldu onlasrı düzeltelim.\n",
    "data1.reset_index(drop=True, inplace=True)"
   ]
  },
  {
   "cell_type": "code",
   "execution_count": 9,
   "id": "3c7bfe37",
   "metadata": {},
   "outputs": [
    {
     "data": {
      "text/plain": [
       "(16224, 2)"
      ]
     },
     "execution_count": 9,
     "metadata": {},
     "output_type": "execute_result"
    }
   ],
   "source": [
    "data1.shape"
   ]
  },
  {
   "cell_type": "markdown",
   "id": "23024861",
   "metadata": {},
   "source": [
    "* Gender verilerini sayısal verilere çevirelim"
   ]
  },
  {
   "cell_type": "code",
   "execution_count": 10,
   "id": "274be95f",
   "metadata": {},
   "outputs": [],
   "source": [
    "data1.gender= [1 if i == 'female' else 0 for i in data1.gender.values]"
   ]
  },
  {
   "cell_type": "code",
   "execution_count": 11,
   "id": "280bffb4",
   "metadata": {},
   "outputs": [
    {
     "data": {
      "text/html": [
       "<div>\n",
       "<style scoped>\n",
       "    .dataframe tbody tr th:only-of-type {\n",
       "        vertical-align: middle;\n",
       "    }\n",
       "\n",
       "    .dataframe tbody tr th {\n",
       "        vertical-align: top;\n",
       "    }\n",
       "\n",
       "    .dataframe thead th {\n",
       "        text-align: right;\n",
       "    }\n",
       "</style>\n",
       "<table border=\"1\" class=\"dataframe\">\n",
       "  <thead>\n",
       "    <tr style=\"text-align: right;\">\n",
       "      <th></th>\n",
       "      <th>gender</th>\n",
       "      <th>description</th>\n",
       "    </tr>\n",
       "  </thead>\n",
       "  <tbody>\n",
       "    <tr>\n",
       "      <th>0</th>\n",
       "      <td>0</td>\n",
       "      <td>i sing my own rhythm.</td>\n",
       "    </tr>\n",
       "    <tr>\n",
       "      <th>1</th>\n",
       "      <td>0</td>\n",
       "      <td>I'm the author of novels filled with family dr...</td>\n",
       "    </tr>\n",
       "    <tr>\n",
       "      <th>2</th>\n",
       "      <td>0</td>\n",
       "      <td>louis whining and squealing and all</td>\n",
       "    </tr>\n",
       "    <tr>\n",
       "      <th>3</th>\n",
       "      <td>0</td>\n",
       "      <td>Mobile guy.  49ers, Shazam, Google, Kleiner Pe...</td>\n",
       "    </tr>\n",
       "    <tr>\n",
       "      <th>4</th>\n",
       "      <td>1</td>\n",
       "      <td>Ricky Wilson The Best FRONTMAN/Kaiser Chiefs T...</td>\n",
       "    </tr>\n",
       "  </tbody>\n",
       "</table>\n",
       "</div>"
      ],
      "text/plain": [
       "   gender                                        description\n",
       "0       0                              i sing my own rhythm.\n",
       "1       0  I'm the author of novels filled with family dr...\n",
       "2       0                louis whining and squealing and all\n",
       "3       0  Mobile guy.  49ers, Shazam, Google, Kleiner Pe...\n",
       "4       1  Ricky Wilson The Best FRONTMAN/Kaiser Chiefs T..."
      ]
     },
     "execution_count": 11,
     "metadata": {},
     "output_type": "execute_result"
    }
   ],
   "source": [
    "data1.head()"
   ]
  },
  {
   "cell_type": "code",
   "execution_count": 12,
   "id": "8f2cb318",
   "metadata": {},
   "outputs": [
    {
     "name": "stdout",
     "output_type": "stream",
     "text": [
      "Before: \n",
      " Mobile guy.  49ers, Shazam, Google, Kleiner Perkins, Yahoo!, Sprint PCS, AirTouch, Air Force.  Stanford GSB, UVa.  Dad, Husband, Brother.  Golfer.\n",
      "\n",
      "After: \n",
      " Mobile guy     ers  Shazam  Google  Kleiner Perkins  Yahoo   Sprint PCS  AirTouch  Air Force   Stanford GSB  UVa   Dad  Husband  Brother   Golfer \n"
     ]
    }
   ],
   "source": [
    "print(\"Before: \\n\", data1.description[3])\n",
    "metin = re.sub(\"[^a-zA-Z]\", \" \", data1.description[3])\n",
    "print(\"\\nAfter: \\n\", metin)"
   ]
  },
  {
   "cell_type": "code",
   "execution_count": 13,
   "id": "070acdb4",
   "metadata": {},
   "outputs": [
    {
     "name": "stdout",
     "output_type": "stream",
     "text": [
      "mobile guy     ers  shazam  google  kleiner perkins  yahoo   sprint pcs  airtouch  air force   stanford gsb  uva   dad  husband  brother   golfer \n"
     ]
    }
   ],
   "source": [
    "harfler = metin.lower()\n",
    "print(harfler)"
   ]
  },
  {
   "cell_type": "code",
   "execution_count": 14,
   "id": "ed7d307e",
   "metadata": {},
   "outputs": [
    {
     "name": "stdout",
     "output_type": "stream",
     "text": [
      "['mobile', 'guy', 'ers', 'shazam', 'google', 'kleiner', 'perkins', 'yahoo', 'sprint', 'pcs', 'airtouch', 'air', 'force', 'stanford', 'gsb', 'uva', 'dad', 'husband', 'brother', 'golfer']\n"
     ]
    }
   ],
   "source": [
    "bol = harfler.split()\n",
    "print(bol)"
   ]
  },
  {
   "cell_type": "markdown",
   "id": "29f0525a",
   "metadata": {},
   "source": [
    "* Kelimelerin köklerini bulalım"
   ]
  },
  {
   "cell_type": "code",
   "execution_count": 15,
   "id": "0d81808e",
   "metadata": {},
   "outputs": [],
   "source": [
    "ps = PorterStemmer() # Nesnesini oluşturuyoruz."
   ]
  },
  {
   "cell_type": "code",
   "execution_count": 17,
   "id": "748383b1",
   "metadata": {},
   "outputs": [
    {
     "name": "stderr",
     "output_type": "stream",
     "text": [
      "[nltk_data] Downloading package stopwords to\n",
      "[nltk_data]     C:\\Users\\sahik\\AppData\\Roaming\\nltk_data...\n",
      "[nltk_data]   Package stopwords is already up-to-date!\n"
     ]
    },
    {
     "data": {
      "text/plain": [
       "True"
      ]
     },
     "execution_count": 17,
     "metadata": {},
     "output_type": "execute_result"
    }
   ],
   "source": [
    "import nltk\n",
    "nltk.download(\"stopwords\")"
   ]
  },
  {
   "cell_type": "code",
   "execution_count": 19,
   "id": "b59b1ec5",
   "metadata": {},
   "outputs": [],
   "source": [
    "from nltk.corpus import stopwords \n",
    "# Yüklenilen stopwords kütüphanelerini kullanabilmek için pythona dahil edelim.\n",
    "# corpus metodu stopwordslerin bulunduğu bir paket anlamına geliyor."
   ]
  },
  {
   "cell_type": "code",
   "execution_count": 20,
   "id": "6b698bee",
   "metadata": {},
   "outputs": [
    {
     "name": "stdout",
     "output_type": "stream",
     "text": [
      "Before: \n",
      " ['mobile', 'guy', 'ers', 'shazam', 'google', 'kleiner', 'perkins', 'yahoo', 'sprint', 'pcs', 'airtouch', 'air', 'force', 'stanford', 'gsb', 'uva', 'dad', 'husband', 'brother', 'golfer']\n",
      "\n",
      "After: \n",
      " ['mobil', 'guy', 'er', 'shazam', 'googl', 'kleiner', 'perkin', 'yahoo', 'sprint', 'pc', 'airtouch', 'air', 'forc', 'stanford', 'gsb', 'uva', 'dad', 'husband', 'brother', 'golfer']\n",
      "\n",
      "Metni Birleştirelim: \n",
      " mobil guy er shazam googl kleiner perkin yahoo sprint pc airtouch air forc stanford gsb uva dad husband brother golfer\n"
     ]
    }
   ],
   "source": [
    "print(\"Before: \\n\", bol)\n",
    "metin = [ps.stem(i) for i in bol if not i in set(stopwords.words(\"english\"))]\n",
    "print(\"\\nAfter: \\n\", metin)\n",
    "metinson = \" \".join(metin)\n",
    "print(\"\\nMetni Birleştirelim: \\n\", metinson)"
   ]
  },
  {
   "cell_type": "code",
   "execution_count": 23,
   "id": "8c4fbff7",
   "metadata": {
    "scrolled": false
   },
   "outputs": [
    {
     "name": "stdout",
     "output_type": "stream",
     "text": [
      "['sing rhythm', 'author novel fill famili drama romanc', 'loui whine squeal', 'mobil guy er shazam googl kleiner perkin yahoo sprint pc airtouch air forc stanford gsb uva dad husband brother golfer', 'ricki wilson best frontman kaiser chief best band xxxx thank kaiser chief incred year gig memori cherish alway xxxxxxx', 'know', 'global marketplac imag video music share photo inspir design tip video creativ commun', 'secret get ahead get start', 'pll fan crazi mcd ramen bae', 'renaiss art historian univers nottingham fuell haribo partial coffe soft spot renaiss china nation teach fellow', 'clean food tast great provid energi nutrient guilt granola vegan paleo friendli option cert organ gf kosher', 'highli extraordinari auction', 'senior xi xii mmxiv', 'come join fastest blog network onlin today http co mfpa vgk http co mpuuqtyf g cover credit repair credit card bankruptci', 'im p bo burnham disney world', 'jmkm', 'enthusiast f fan model collector music fan film fanat also aspergian', 'artisan special paper mach print make fibr art art teacher cat devote find page fb http co g bstg icv', 'bled die take away sin', 'union j xxxx', 'start', 'bsc econom graduat coy', 'wife coach mom eight troop follow christ', 'question islam would like answer visit http co alpmzgct x chat us', 'canadian space enthusiast futur astronaut hope', 'dm close sc dear moonshin', 'rl writer lewd aspir femboy enjoy oneechan girlcock rt softcor r nsfw account list', 'break industri news peopl believ thing much tv know', 'award win author paranorm romanc thriller hath furi technolog writer http co lmmiowenqq asmsg', 'self proclaim princess occasion pain ass', 'k smooti drink alot could wors scroll girl nude watch bradi beat team patsnat suprememeninist alwaysturnt', 'everyth need find job keep follow tweet new job post', 'free bro ebk otr real kno grind wea come', 'nation lead voic childcar advoc afford high qualiti ece work famili undertak research report child care data', 'penn state alum classof', 'mirag homag capri etern hopeless romant realli hopel', 'lover women dog cat dog movi comic tv video game book wrestl existenti adult ent', 'collect genr specif blog combin like voltron provid best coverag imagin thefullble scifitalk geeklegaci thmatrix', 'militant obrero de lo sue os revolucionario desd toda la vida chavista de coraz n comandant vive x pre', 'love anim fetchfind new way find job network pet industri mascot heyfetchi fetchylovesy', 'babi perfect nialloffici', 'kennedi j abulala ni mwalimu anayeienzi kazi yake mwalimu wa kiswahili', 'krothedj gmail com instagram djkro', 'slightli ginger blue eye park run', 'live life top food chain', 'nss ipgkk', 'home offic busi sweet busi', 'goodmorn mention anyon retweeet must follow back fav follow', 'pc xbox playstat esport music edm stock sex', 'warholian obsessor creat within orwellian nightmar allsceneey larecord', 'blade instagram scottryan', 'control jpn version zoe jbot rayark implos', 'want life advertis servic free get rid money worri', 'curiou guy', 'discov heal ill pain', 'team di report e giornalisti lavoriamo con video e web la nostra giornata tra cronaca attualit politica e sport info smlive', 'like sleep', 'ask question get lie spoopytaylor', 'photographi book enquiri dm call email abphotographi gmail com insta b photographi teamchrist', 'born czech republ live ireland wanna germani ouat oitnb', 'angel could', 'follow money open govern fight corrupt globalintegr opengovhub tweet', 'retir bad girl queen', 'walk faith sight', 'h ncisla bone castl arrow chicago fire chicago pd poi elementari tbbt agent shield grey anatomi last ship callen mcroll ajax lfc bar rafa nadal', 'apollo bot pull aj dd randomli post everi hour spoiler abound construct progress complet', 'south beach th street miami beach fl sunni isl beach collin ave c sunni isl beach fl', '', 'like snow beauti cold legal drug dealer origin extraordinari psychic want know better talk', 'offici twitter account wichita fall wildcat nahlhockey south divis est restoretheroar', 'wife tidi boy amadeu director ideal place proud mother max mozart', 'deliv date news entertain world', 'lie get halfway around world truth chanc get pant', 'lover truth seeker knowledg', 'chase trend make statement hoodlyf http co abfak idjb', 'calm collect followbackandse', 'artist evalu life radiat oncolog student want make differ comedian rule breaker forcelectur live drawz http co nsf zd hfi', 'tcg staf firm place design interact market profession freelanc full time job see job', 'hi name angela friend call angi bore life consist colleg work noth post bio', 'sport media opinion establish contact us jmcintyr usatoday com', 'repair make model phone tablet mp player profession repair electron equip sinc', 'sportswrit cigar lover dreamer pro writer sportsblog ustadium ambassador suffer yanke net jet fan fau', 'chariti volunt', 'hip hop usb album breakstix usb break beat http co iaof r hv', '', 'card get everywher anyth anyhow pleas use credit card wise pleas get tip use credit card site', 'bore bore chelsea', 'dalla tx news need one spot thank follow pleas send along suggest may', 'maker conceptor creativ develop xbac bd concept geek dev agil neutralit opensourc privaci copyright', 'calm cool', 'retro modernist suffer unsightli visibl', 'multipl sclerosi live brant counti togeth commun partner want help live diseas', 'doctor physic time olymp swim gold medalist profession liar', 'trust peopl like big butt cannot lie', 'dont take tweet seriou shrug shit happen look link pin reason', 'come agrown agtech investor confer join convo cea us feat jayfamiglietti genegiacomelli meini prin actonclim agcon', 'commun outreach medicaid manag care board member unit way chicago gerontolog advoc underserv commun isu alumni', 'venta digital ibm espa toda mi opinion son personal la hay de todo lo color tambi n pued contactarm en http co u r x hr', 'freeza ripnazerah', 'f p f', 'weekli hip hop podcast new show everi wednesday root hip hop limit noth market excusemyadlib com', 'catalyst happi', 'idiot baltimor think funni', 'comput engin khalifa univers', 'studi dillard univers dr william', 'leonel domin', 'gb year usual twitter twat follow chat regard fight demis nobl trade know lot answer', 'quit pay expens medic visit fake fix elimin frustrat nag constantli repeat low back pain', 'born london grew basildon live cornwal sea make sens fine', 'sign', 'journalist produc camanpour cnni alway open spici taco view rt endors duh', 'curat best media feed palo alto citi http co dtwyrmizau commun servic media network support social good', 'en webradio music non stop fantast sci fi movi tv show earli present day fr radio sf et fantastiqu', 'brain bodili organ start work moment awak stop get class', 'ja onlin gist entertain news music video event celebr focu interview life style fashion videodirector mc expi', 'learn new aussiebodysecret', 'hollow heart', 'hurt let go sometim seem harder tri hold someth someon want get away', 'like tweet support work shop amazon via link thank good person http co ebogxhl r', '', 'magnific fujoshi scum', 'girl love god pole vault lift read horseback ride passion countri love small town girl', 'day want world peac day want burn world', 'everyth need news crew presenc', 'ent est bem sport clube de portug', 'live love electron danc music scene edm life follow us come say hi see honey next edm festiv go', 'real estat global network social network real estat profession', 'island offici magic creatur omg ask white avi header barnqueenacc r wellb ambassador', 'help build supercomput one make giant robot anyhow keep busi send mar tweet cc http co mtenmjd xx', 'train like pick hunger game', 'look miracl fuck right one jess', 'home school manag bcomm program mba program msc innov research centr core downtown toronto', 'year old marri broad makeup artist stylist rais beauti girl strong beauti women wife roughneck', 'capit area food bank texa nonprofit dedic nourish hungri peopl lead commun end hunger', 'creolemix borninneworlean raisedintexa love god famili friend educ sleep text food movi music cloth makeup natur anim color', 'pronounc val er http co ezqpnsavnr dedic livestream avid pepsi drinker greenmangam partner proud member keefcult big wwe fan', 'hi name louann great fan justin bieber love', 'nation secur foreign polici editor cqnow pulitz crisi center grante former qatar expat medil grad retweet endors', 'latest new york ranger buzz', 'writer stoop hen book punk gin write cash iqmediacorp work nsfwstori foul mouth cyclist', 'ever feel weak rememb strong copilot darklylacqu trine coldconstruct rockdov', 'ultim gourmet coffe store espresso whole bean coffe http co u ppcrfrsq http co snem ypeak', 'christian conserv baptist believ constitut founder book busi republican theologian historian', 'collect genr specif blog combin like voltron provid best coverag imagin thefullble scifitalk geeklegaci thmatrix', 'got adsens publish account tool multipli incom mani time wish http co gbictckta', 'marinasdiamond dailymatd alreadi perform v altern pop lie', '', 'tweet thing around pennsylvania like enjoy interest twitter market save today info nicolamarket com', 'health nut retir teacher famili man programm develop technician pc cnc entrepreneur god', 'dont need much cuz action charact tell kingabdul', 'divis ground news canada join friend read latest game news ground', 'weekli nation syndic altern radio newsmagazin time depth progress analysi found corpor media', 'oh oh oh oh', 'latest busi advic strategi businessinsid', 'sick lip caramel wanna tri bafhous teamprettypothead perfect balanc badass femini di hempress empress', 'american made jean built leader fit qualiti style bring best part fashion world western world', 'experi conflict commentari realism', 'hampton univers', 'curat best media feed cleveland citi http co l qvbrl commun servic media network support civic caus local art', 'owner jlj hold llc real estat consult owner feel real estat servic llc', 'finna lit vancini', 'solar power sigh machin mostli footi talk', 'insta brownlouis', 'card get everywher anyth anyhow pleas use credit card wise pleas get tip use credit card site', 'czech adult model pornograph actress inch natur breast current livin london follow retweet everi day luv u', 'offici citi coralvil ia govern twitter account follow rt endors comment info http co gayp dffh', 'tammi r sc kredo x', 'bb offici twitter account caution barracuda patrol water follow dloesch newsbust governorperri fredthompson twitchyteam chuckwooleri', 'evil conserv obama warn pro palin conserv pro life', 'love jesu miranda lambert jle leopard print littl jack coke', 'help peopl debt tax estat problem sinc friendli seem tv experi go anywher els', 'se un uomo non disposto correr qualch rischio per le sue ide le sue ide non valgono nulla non vale nulla lui cit', 'strive islam way life right deen sight allah islam', 'full time cruis sailor writer abid interest book boat sea classic guitar', 'tweet la vega deal share sin citi secret along way follow love vega stripdeal gmail com', 'want british justin bieber want first conor maynard conor maynard met joe caspar call babe', 'bambam jyp nation septemb th park jaehyung call broski', 'unknown', 'creator locat educ nation premier educ consult servic young perform passion educ film theater crime drama', 'onedirect directionerforev criminalmind harmon abraham afonica soy liam girl ig selli', 'world fastest grow seo small big job servic buyer seller meet', 'current mood jet black heart go one direct', 'daili tip motiv healthi lifestyl diet nutrit eat right feel great healthi', 'soco randolph colleg l hard leav leav easiest goddamn thing world', 'en construcci n literatura lisensiada en estudio ingles zurda mel mana peligro constant solemnli swear good', 'owner cocker spaniel amateur baker thing nice jam marmalad maker mane chanc hors sanctuari owner tr', 'geek gamer writer beard advoc twittermafia', 'jewish feder greater philadelphia mission mobil financi volunt resourc address commun critic prioriti', 'terrani dad come everybodi rastaman', 'find latest job career uk follow tweet', 'curat best media feed sydney citi http co anaoqyuff commun servic media network support civic caus local art', 'vcu campu technolog store proudli serv vcu student faculti staff provid technolog product servic roof', 'lover outdoor thing subtli charm geek massag therapist mind', 'talent board thecand vp talentcultur tchat show co founder co host ta hc certifi hr recruit writer wannab drummer grate father', 'sure fine whatev', 'eo soo seon smol', 'author novel trip aret', 'like buis', 'writer gay romanc gay erotica lgbt literari fiction choos care amz http co hr ddu', 'mu pt', 'love like car accid hit fall surviv surviv love cuz weak', 'go get tough tough get go', 'se asian goat kid march current still much jojo much bike saso team abuyagi', 'formerli lead edelman indonesia public affair across se asia join http co gscda septemb st senior vice presid brazil lead', 'featur nfl columnist gameday writer bleacher report former armi engin lover thing sarcasm satir pfwa member', 'matter up down happi sad moment alway gaga saw follow notic mani time', 'phoenix citi press', 'swazij unit wife kid order mufc master degre banterolog arrog better red devil ig iam makhubu', 'lay back enjoy life austin cole', 'love sing danc food paint tom bertram lol awesom like viner go follow varsha nair', 'primo deu god first music', 'curat best media feed regina citi http co lpvxd mnax commun servic media network support civic caus local art', 'natur artifici flavour', 'way babi monitor use parent babi parent hear sound babi import choos reliabl one', 'follow fut io android bargain giveaway use pic legitjaz win giveaway bargain dm want sponsor giveaway', 'vegan marri batman simpson metal harsh nois xtapolapomet', 'carla malto iixii', 'classic professor haverford canophil yanke fan occasion garden onetim sailor', 'hi name kevin dota player germani follow know start stream', 'world largest afford seo market place seller buyer freelanc small big job onlin servic meet', 'partner pr firm expertis interest crisi commun manag public polici econom develop media tech aviat healthcar', 'hey norman andi dick feel click link find answer', 'instagram oliviamockford', 'time ghost', 'sagi babe', 'walk dead comic tim burton turtl owl harri potter star war hacki sack music life r p mitch lucker rise record street team', 'indianapoli citi press', 'brook writer artist video game fanboy snapchat thequeenbrooki', 'live content curat top urban plan influenc', 'made bird enix weird develop fallow', 'complain get drunk', 'want earn money bitcoin let insid tell', 'muhammad fitri adam', 'latest toronto mapl leaf buzz', 'make giant novelti chequ sinc', 'singer arrang music produc', 'aba instructor grad student coupon deal hunter freebi snatcher blogger iphoneographi lover social media butterfli', 'matter slow go long stop westfield insur pinnacl sport gobrown gobuck believeland', 'businessman entrepreneur internet market earn singl day remark new idea free video http co dl kzcvxue', 'wapo nation report seek truth give voic voiceless shine light dark consider minor import', 'niall horan como respuesta todo larri como ox geno liam mi babi zquad zayn girl', 'ed taylor', 'go surviv mode tickl', 'done', 'love manchest unit beard beard red discuss everyth unit check podcast', 'newli marri kid everton rule', 'get normani video', 'curat best media feed belmont citi http co hw alqpwg commun servic media network support civic caus local art', 'updat game thing technolog relat mostli', 'commerci director zignia live member board water happi', 'fuck dummi', 'abbey gilbert raemorrismus work progress', 'lyric driven ska punk regga east coast check new releas sublim one itun proudli sponsor prsguitar', 'call neighborhood haunt focus great ambianc delici food classic libat', '', 'nerd wrangler riot game', 'like call writer melanin curl pro woman pro black reader blogger', 'mommi ka leighceriyah', 'came differ famili biologicali heart beat one kathniel', 'sportalk sport meet social media account cover philadelphia eagl join sportalk today get app http co qyommzx df eagl nfl', 'good vibe', 'open eye someth beauti happen al', 'polinema tek informatika basket polinema like basket http co lgxn bgetc', 'quit pay expens medic visit fake fix elimin frustrat nag constantli repeat low back pain', 'love read favourit book seri fifti shade grey fan stephen moyer jami dornan love watch true blood big rooki blue mcswarek fan', 'brand develop manag husband new york time bestsel independ author nicoleeauthor', 'bueno hola llamo kevin tengo os viivo en se dond gusta cantarl l u de soii tiimiido add facebook amo mi novi', 'draw filthi stuff', 'big tit pictur site', 'swifti forev alway script cat music travel tenni basketbal ice skate play guitar piano ukulel bit', 'incur tv evangelist', 'relationship surviv long term earth would worth time energi short term deal bargain forsal onsal discount', 'learn thing revolut bitcoin opportun simpl way earn money use bitcoin', 'wast', 'collect genr specif blog combin like voltron provid best coverag imagin thefullble scifitalk geeklegaci thmatrix', 'crazi toy attic crazi truli gone fish must taken marbl away', 'famili less influenc healthcar complianc triathlet askhcsi', '', 'longwood basketbal r p dad portia toni', 'socio legal technologist inventor conset receipt focus person data control', 'free omb fear allah real demon loos screw', 'semper paratu', 'wait gandalf come hous invit adventur expect return', 'te quiero que ayer pero meno que ana', 'greek god stat espn mikeandmik christ follow moneybal discipl punk rock enthusiast lebanes food connoisseur', 'blogger intermediario assicurativo esperto di pallacanestro livornes tifoso del milan e della liberta livorno webdesign e webmast blogger politico', 'hey angel', 'steam littl arab insta littl arab kik ahmadab', 'care peopl think', 'arm leg', 'follow ysk baltimor latest news baltimor maryland area http co doixknlfdp', 'freelanc job seo design write social media mani place buyer seller meet', 'ja onlin gist entertain news music video event celebr focu interview life style fashion videodirector mc expi', 'divis ground news canada join friend read latest game news ground', 'pleas block', 'small town girl convinc born wrong side mason dixon start', 'spooki bisexu teenag intersect feminist feminist kid', 'offer afford travel best locat', 'offici twitter feed eckerd athlet follow us updat galor member ssc ncaadii', 'wael abdelkarim', 'hjv sc skyski', 'u r affili nfl san diego charger', 'attorney speaker legal analyst http co gpbrj wa n http co ts cihefn', 'second floor tootsi gettin shoulder rub', 'commun coffe enthusiast infuriatingli humbl music nerd subtli charm internet guru alcohol fanat', 'girl want big thing life', 'question', 'leyton orient blogger author promis tattoo face stupid club thank get lofc', 'card get everywher anyth anyhow pleas use credit card wise pleas get tip use credit card site', 'noi noa precisa de nenhum papel da prefeitura', 'veninataviveci', 'life wait storm pass learn sing danc rain', 'real estat enthusiast work royal lepag atlant look sell purchas tweet away', 'thriller entertain scare chang password author social engin invas privaci http co l pvxnrord', 'music librari knarks gonna lot repeat garbag', 'commerci director zignia live member board water happi', 'publish produc songwrit make wavi music odd plug witthat beat inquir email pianoboytod gmail com', 'anti come soon', 'kind tall hair wear shirt sometim build mysteri', 'metal hammer deputi editor whatcultur wwe goon neeerrrrrrddddd', 'read latest hot news world newsviewsworld', 'aunti nut blog love tea love candl space doodl http co awlemdc ut', 'learn creat bestsel amazon audio session tell need know', 'frog k', 'produc kennvad uk http co h dtj kl sevenstudio itali book info dougla entertain co uk', 'year support hereford unit sw well bodi hereford fc onward upward unit', 'natur californian', 'actor writer filmmak father husband gamer fanboy got take rock mic right yeah', 'meant along realli', 'bitcoin enthusiast', 'formerli known subway serenad known astral technician current develop global biofeedback laser tag', 'paper chasin paper runnin paper gunnin paper gettin paper havin paper catchin dont forget paper grab', 'get updat whatev happen diymagazin easi feed', 'like boyband read book bit obsess emmerdal robron instagram rachelh', 'trust one ripspann talk rihanna kingjam might get yo head buss dreambig amosc phineasandferg', 'curat best media feed redwood citi citi http co lemjjzzwx commun servic media network social good', 'get want caus ask realli deserv', 'tradit excel year', 'co host xl primetim xl', 'cool kind confus', 'rose affair dedic help poor famili could afford medic kid', 'content social media market busi brand public figur non profit valu onlin reput person voic kerijaehnig socialmedia', 'freejalen llh', 'businessinsid roundup expert partner news outlet across media landscap', 'allerg cheatin hate failur love achiev', 'take busi next level amazon bestsel increas credibl incom', 'damn man social awkward extrovert ig sianchristinak', 'hail moon tell father friend cant lock door caus she alreadi ig helenkdavishkd life saver manag strainaddict', 'lover life thing artist creativ beauti especi peopl mama hollymorwenna finntalisk', 'travel writer b b host beer drinker kitti petter independ travel beaten track volunt http co gqnujjc al', 'artist writer devour potato art atheism femin scienc improv polit game health fam nerdi stuff write weather minutia', 'live depress tri end stigma poor mentalhealth whitney fan nice watch amateur photograph gay graduat aspir journalist', 'start web research got passion seo work seo analyst sem ppc inbound market smo lead gener tweet seo gener thing', 'writer lyricist coffe enthusiast world class barista semi pro mixologist mbonisigusto gmail com', 'onlin write school top instructor great class afford price', 'alex ac clifford clarkston varsiti bowl srt also pool shark ib class wichita mayb', 'fool fall azul verd ddl zayn troy', 'question follow us let us help product support http co egtg se busi support http co mm axaey', 'xo', 'appl freak girl love game', 'life short drive bore car slowg http co kt l amr', 'fight good fight faith lay hold etern life whereunto thou art also call timothi jesu christ way bachelor degre bibl studi', 'internet market adsens im money youtub tip make money onlin adsens youtub http co gbictckta', 'choos happi problem world emison hollstein xena gabriel', 'hi', 'uknetguid find flight book one hotel around world great deal offer', 'food fanat incur troublemak', 'skateboard money bml', 'ghareebah snapchat saynabeyi prayfortheummah', 'launch book optim amazon book page increas rank keep', 'twitter page renfrew counti district school board', 'book promot amazon bestsel program social media program', 'web market expert special book promot', 'pike podcast est promo music sport lifestyl entertain polit comic fantasi movi sex debaucheri els', 'welcom east public school ps e school motto learn start enzo guarnaccia princip', 'connect peopl church fellowship grace brethren church', 'quit suffer live rest life champion muham ali box chadd abc loyalti everyth derbi season ticket holder', 'project foundat defens democraci followfdd rt favorit follow endors', 'think second actual care say', 'concern anim welfar h qualiti speci risk charter right plight wrongli convict pl visit support http co ilyj mw', 'un fan de footbal fan du club africain fan du wwe fan du counter strike', 'osceola counti rep record artist pen pimper peac seeker posit vibe pusher ig homelessmillionair busi email allenyorkmus gmail com', 'follow instagram amandacleghorn taylor swift dancer sytycdc top femal', 'deliv appl mac news nearli follow twitter follow us g http co iwja f tg', 'host morn grind morn minneapoli podcast soundcloud http co xew bekf also app lean leftward', 'make perman decis temporari emot', 'differ angl http co ndfm buru', 'rose affair dedic help poor famili could afford medic kid', 'mom current divorc comic crohn advoc dr phil social media contributor member inner circl', 'like fun activ utsa spursnat', 'book promot', 'book promot amazon bestsel campaign social media system', 'catalog chang life inspir motiv metaphys book program product much much', 'retir sea captain born england eventu emigr unit state continu write enjoy comfort', 'student univers cambridg', 'god first jiggaworld novemb st cloth line come soon', 'older think rajna hussain', 'instagram josealejandro skype j', 'provid book promot amazon bestsel campaign social media platform', 'cloth strength digniti laugh without fear futur proberb bh senior k free brother codey', 'lead global engin firm provid profession engin consult servic leader aerospac automot energi nuclear sector', 'enjoy weather', 'vendedor de sue os tambien vendo libro', 'instagram briannaamurray', 'profession rock roll accordionist bomber forev', 'get updat whatev happen diymagazin easi feed', 'collect genr specif blog combin like voltron provid best coverag imagin thefullble scifitalk geeklegaci thmatrix', 'multi award win bridal hair make stylist event florist hollywood lash technician', 'latest bostonglob metro depart tweet andyrosen globefinucan jrebosglob', 'offici twitter miami southridg club', 'mayor mizner big kahuna grog grotto level boss player friend finnegan vice presid poor judgment crew', 'first greek twitter page cimorelli promo news own proud fan iownaustinsdick eficimz louu love guy cimfam', 'ryan former cohost get board pod unknown recycl garbag tv lost vh view pleasur', 'lead news sourc mobil digit health commun cover mhealth digitalhealth healthapp subscrib http co bssgljabmf', 'interfaith counselor life coach focu north node astrolog spiritu advis welcom religi faith fold', 'follow cool etsi craft', 'newlo nosecrt ultraslump zona music motion ward', 'follow us get latest news', 'teambel gemini stapleton eastni ballwaslif', 'support west ham live nz eat macaron support west ham would silent proud husband father gorgeou girl may', 'latest news philadelphia updat frequent', 'yea ya man buy mad snack wut good', 'certifi er', 'real music wale fm dab onlin home big welsh wake niall ruth what nationradiol news nationradionew', 'follow jesu christ lover life peopl enfp starbuck partner', 'kitson flagship store robertson boulevard favorit stop mani celebr hollywood oh offend sorryboutit', 'bring pie back one slice time furri softwar hockey often less polit correct wit liver may fuck heart honest', 'princeton herald offici newspap citi princeton texa visit websit call advertis subscrib', 'eat healthi food stay healthi', 'origin content produc earn tsu http co jksk av content attract view', 'indianapoli citi press', 'pr profession writer thinker fit enthusiast footbal lover angostura rum fc barcelona', 'video product compani film tennesse texa us captur video stori', 'czech adult model pornograph actress inch natur breast current livin london follow retweet everi day luv u', 'offici shrewsburi town footbal club twitter account bring latest news shrew salop telephon', 'daili updat women blog', 'johnstown tomahawk junior hockey organ proud member north american hockey leagu', 'anoth tri hard fit right', 'love connect onlin amherst wi milwauke wi dayton oh rudolph wi neenah wi', 'tira aro ace aspir artist draw anim pal telagram skype tiramiwsho carecru alt tatterdneckwear', 'taku fand wh markiplit skelet n cliqu manicpanda sister mani nightmar n enough dream', 'e snapchat juhnior', 'curat best media feed st loui citi http co awasxinsof commun servic media network support civic caus local art', 'glenoak junior young girl tri make like everybodi els', 'privat cathol colleg prep school young men', 'male west midland england spain qualiti gold chill comput xbox time youtub munkychunki joeysalad ftw', 'blood make relat loyalti make famili', 'director paid search', 'lel', 'almost never tweet good right', 'intellig funni narcissist lazi ass introvert math jaguar', 'let anyon tell love love anymor noth imposs chowan', 'motovlogg london make sure go check video youtub ashalizir instagram', 'miss shot take wayn gretzski michael scott', 'bianca heart mind soul', 'cheerlead cat herder den mother', 'bless', 'news analysi perspect epa regul climat chang polici debat', 'union network entertain profession come togeth work promot collect team', 'deepfin co owner writer humor sport find magic nole jaguar redsox unf dadlif vape kappaalphaord brother', 'jordandivero iaurensmith like one twitter who funni cours', 'celebr abund th way appl festiv wednesday th octob tweet sent dig devonport co ordin tess wilmot', 'dj creativ director visual artist social media coordin influenc stylist youtub bookroxyayala gmail com instagram officialroxyayala', 'shakespearean ucc alumni dominican esl teacher musician newark new jersey born rais kean spursnat', 'someth today futur self thank', 'flock fli hail dolan alla quackbar', 'tweet lego legend ssbm', 'fast easi prescript save right fingertip', 'tlu pre nurs cowboysn till day die', 'know mad iv alway mad', 'earn bitcoin network http co rya jmlz q sell onlin advertis simpl product great potenti use bitcoin fulli autom', 'african proudli nigerian fashi n del agricultur scientist chang seeker feminist basic rockstar', 'new hampshir main sourc news strafford rockingham york counti', 'lotion produc songwrit lover fighter hate friend mani jlo chri brown teyana taylor jojo lot come god will', 'presid person spaceflight advisor llc author design engin', '', 'mathi theorycraft type element shaman wow usual grumpi cynic', 'god eater zero escap dragon age lover terribl pun ander elv ojicon procrastin extraordinair da damixillia', 'dedic bring news digit world', 'swisha splitta', 'addict nail polish love stamp plate', 'phoenix citi press', 'singl goth footfetish', 'writer beauti unlik http co v yxqcha mojo collector http co dnchecxj z good thing bad thing', 'god st famili box muay thai good word action speak louder snapchat vwashington', 'page dedic martin freeman fan freemartini join us latest news pic', 'oh good old rebel union nation give damn', 'littlenial http co j ihq akp', 'sourc latest news sail', 'gank guwop watahpark otf moodyworld', 'ddct', 'loui tomlinson nialloffici love ya man', 'life write coach proud parent socialist', 'herb garden proven method grow herb insid outdoor great food tea medicin herb', 'opinion like block cri spill whine', 'wanna save world know', 'sc charli paig', 'happi', 'old account annabellxox lock ff', 'feminist latina immigr activist somewhat socialist marxist believ fight other human civil right unit', 'god often speak christian dior gcb r p', 'rip love angel lulu yamil montrico', 'alway chef trade chef natur work la rose noir brand manag la rouss food', '', 'cl student ku', 'openrp lewd non mostli dom male thylacoleo awesom best friend mr samusaran open gf betterackerman shapeshift straight', 'yahoo answer environ altern fuel vehicl conserv global warm green live', 'shameless pervert nicholaslist tweet plu bunch extra nsfw pervert looneri', 'offici twitter account oh src bring best news updat follow us exec jacksonpy gagewood graci grahamaidan src', 'quiero un amor bonito de eso que te dan mariposa en el estomago', 'meatless grill guid live bbq fresh', 'news insight team hallmark busi connect hallmark b b unit', 'major leagu produc produc hunnidroundz inquiri hit hunnidmngt gmail com instagram hunnidroundz', 'law graduat aviat person pilot view post everth aviat industri analysi news photo lot follow also gat aero', 'littlenial', 'acm bodi paint jamaica plain friendli knowledg qualiti bodi shop let us get back road', 'littlenial', 'littlenial', 'fuck trapgang gotta know get know nigga', 'http co j ihq akp littlenial', 'woman despair ignor bigotri like talk appar quit good transteachersmatt', 'moon love child ig majinpeach', 'littlenial', 'littlenial http co j ihq akp', 'known mani name may know one go marri higashiyama seika ds fc', 'fahima born villag harlem nyc produc larg pacifica radio work consult adjunct univers professor', 'christian true sens term retir entertain devout hard center democrat avid polit junki', 'travel boot danc shoe', 'us base content writer write good stuff', 'blogger reader feminist uk probabl listen halsey obsess twenti one pilot tumblr', 'game design gloomth princ obsess eater food wearer cloth make adr ft threeonezero opinion', 'former cabin crew llb hon sportslaw phd student marri boy luca mico write st book wheelchair user', 'came noth americu ga carthag tx panola filli philippian', 'lago', 'till end line', 'littlenial http co j ihq akp', 'sunset adventur', 'theoretisch forschung der naturwissenschaften buchautor schwerpunkt astronomi physik medizin komponist vorwiegend romantisch musik', 'cloth strength digniti laugh without fear futur proverb ugh class uw madison freshman', 'proud wife american hero combat wound vet usmc major jame frederick wilson support human right injustic step mom anim lover hiippi adjac', 'young run come back need mountain beach snow ocean', 'pessimist diehard unit fan rant lot mufc unit', 'rip bean good bad die carri', 'hooper dont descrimin girl welcom', 'jame bond put kinda shit love strifechaospain life hisprincess', 'current play wzbc fm boston', 'sun music internet radio flow free demand adult urban altern featur four music style buy hear listen', 'ct', 'yahoo answer environ altern fuel vehicl conserv global warm green live', 'web design front end develop digit media enthusiast fit fan love footbal travel mac good cup tea coffe alway help', 'life littl kitten pleas give hug daili open dm mp ouvert sexual orient n', 'nation lead voic underground altern punk music youth cultur print onlin sinc follow us news music', 'failur failur tri', 'wwu seusayahh', 'artist co founder tripmusicgroup creativ director inquiri contact mike p funkyd gmail com ig blacasso x tripmusicgroup', 'believ keep god first thing possibl', 'babi could enough', 'social media junki love travel photographi actor lake lover startup advis', 'llsd', 'next rate music promot massiv music video artist promot web design contact info loyaltyload com', 'potti mouth blondi gamer wrestl fan soldier littl monster bit nerdi', 'herb garden enthousiast share simpl yet practic tip help struggl herb garden achiev beauti healthi herb garden year', 'asst professor chief market commun offic consult artist', 'birmingham', 'ceo founder bragg live food life extens nutritionist author health crusad speaker nutrit advis world leader hollywood star', 'backup page follow page plu instagram reddick reezi snapchat reezi http co wzeghuecbm', 'live milwauke wi love sport small famili ask anyth like give interest respons', 'passion equal femin fair labour member pro corbyn', 'music product dj http co ii ah', 'laid back cat allerg dumb azz peopl goin joker anger manag go ahead test hit mansitchoazzdown', 'yahoo answer environ altern fuel vehicl conserv global warm green live', 'suppli chain manag news publish daili scm supplychain procur logist', 'music inquir vers collab book contact johnson isaiah gmail com late night turnt earli morn come soon http co jnq epqj', 'wit jesu preach teach save heal', 'andrea giantsnat', 'tweet latest job offer detroit', 'juli unit digit stimul forget histori unit earli year commun librari record label', 'book featur contact wesley crutcher fiveout phlatlineco crewgq chiraq remix video', 'erin nc im joke http co tfn qzip', 'realli know dead actual care', 'london put suicid note', 'ceo founder suntex strateg invest ltd privat invest bank pss worldwid top world hotel resort', 'enthusiast comput ageek webdesign webdevelop softwareengin beniceandfollowback pin b busi', 'organ noshabl sundri market pr pro instagram organicexpert anitamariegriffin gmail com', 'child god father husband son fan hiphop adida thunder er giant cardin stanford rattler famu', 'aunti nut blog love tea love candl space doodl http co awlemdc ut', 'curli boy cheshir reason', 'bocc burger beer twistandsmashd', 'smash arena', 'direction kalesquad follow alfi dey quisha beckii photographi adict one direct tuber', 'eributt eribot erinland erin clock icon header tirralirraa', 'hi gale best friend sorri dmmd opm undertal draw write sometim monster enthusiast funkmast r ish', 'part time pirat psychotherapist urban fantasi', 'develop somalia media pr uk tweet opinion disclaim view reflect employ instagram harbi jama', 'fianc burial host doosintamriel http co iypsgsv z casual tesonlin', 'wet readi yeti', 'may cool never march band cool', 'hey liam payn angel', 'eustach davenport herb garden enthousiast author enjoy knowledg tip reveal articl free websit', 'extrem amaz auction', 'illustr michigan snake help im obsess snake', 'orlando pirat support bcom econom graduat financi planner invest banker barclay africa god everyth', 'drain pressur swell amaz famili louisto blueyedsnak hazzaboo subtwinkl', 'hotlin never bling', 'motion design graphic', 'fuck given zone consid forewarn welcom world us navi japan live rip gz love alway cuzzo', 'procannabi propsychedel antiorganizedreligion multicultur governmentscept musician soundengin outdoorsman longrangeshoot hdmc wtf', 'infp guren ichinos enthusiast match thecivilunrest', 'hmi buzz multimedia compani dedic document haitian american experi', 'support uk withdraw european union leaveeu voteleav enoughisenough believeinbritain ukip member', 'uncg', 'blue jay fan enjoy great play player team cometogeth saveit', 'chase sun', 'follow us latest updat job opportun cricket addit detail work cricket visit websit http co tkkwukbslc', 'month that like year', 'start turn fangirl sinc join crazi troyesivan grantgustin r famili potterhead coconuterforlif', 'richard rider name autocorrect richard ridicul openoffic kind say', 'yoke indemfam jordanr', 'voiceov extraordinair key songstress wannab actress awesom extra mostli tri daughter momma rais peac', 'archdrak pilgrim got tire hang shrine join shittiest social network ever neutral arbit meme', 'kid livecalmafrica', 'normal lass tri good person everi day adult time treat break real life', 'barbarian', 'america next master chef', 'question bestbuy need support let us know help x', 'food dine tweet http co waiq c r u best bite blog', 'got angel got demon im biggest hypocrit', 'tweet mufc mufcu mufcu mufcu ireland hli admir peoplesperson contributor view coybig', 'smile frown', 'chanel', 'ez read hard put', 'hidup hanya sekali hidup lah yg brarti imam zarkasyi', 'christian laugh snorter camp fan hair stylist slightli enchant alcohol ninja', 'gordon brown eagl scout brown bone', 'author lover antiheroin unapologet geek brownish smasher smartphon patriarchi roof son rais', 'addict twitch lirikh shortyh', 'think realli funni probabl', 'san siro never word say ask stay zaynmalik met benji fede', 'teacher footbal lover reader', 'red cape come', 'hate kyosukekiyo accord possibl vampir birthday', 'resourc seniorliv industri assistedliv', 'call j lenni lenap refer specul fiction fantasi writer blogger atozchalleng nanowrimo boutofbook http co yc ewwtrqt', 'jean pocket', 'callofduti newsbot', 'want help promot event venu even music releas twitter facebook well look pleas email jay smpromngr co uk info', 'univers hertfordshir student', 'wanna know got scar', 'tell mother love', 'survivor sibl abus trauma referr therapi sibl abus survivor nation author activist virtual assist', 'love montrel broadway', 'focu', 'extrem awesom offer', 'candid mayor stl wrestl box muslim book avail http co rwjfdidk', 'innov way earn make money onlin internet market global lotteri money market foreign exchang market trade', 'waterloo', 'eye roll way ppl heart sinc', 'labor councillor hill shire council manag disabl sector', 'lil vegan studi scienc ig peapark', 'http co qncpmri', 'live life g teamenvyu fav spam legend follow', 'famili soap footbal tweet soap relat enjoy', 'fuck', 'follow teamindi info event local music local busi deal interest social media market email teamindi gmail com info', 'us hate anyth dont understand tri understand thing interest extrem human natur basebal hockey', 'realli love one direct', 'encantan lo perro la naturaleza soy buena amiga leal fiel entregada amo leer imaginar pensar', 'teambuck tim sayin love georg washington constitut tequila merica known alia steve roger', 'so band r littl mix vamp ed demi shawn teen wolf pll charm oth glee dylan brien potterhead', 'time warp tyrannosaur', 'slept motiv success make westlak highschool wide reciev', 'final year french studi student ligu analyst frenchftweekli gfn franc onzeotv scout analysi gener enquiri brendanfrenchfootbal gmail com', 'enjoy journey', 'love forev zrg power love overcom love power world know peac feelthebern', 'face launch thousand subtweet author last call nightshad loung quirkbook rep jenniegoloboy', 'corgi fur fursuit cosplay crafter anim scifi fan anim lover car geek around nerd love hibaakaiko owner collaredcorgi', 'hottest retail sale job open lead updat everi minut major citi', 'rap artist', 'english bot shalltear bloodfallen overlord mod najenda overlord anim', 'chelsea fc thibaut courtoi eden hazard instagram faheembutt', 'profession dancer turn lifestyl blogger love life color', 'czech adult model pornograph actress inch natur breast current livin london follow retweet everi day luv u', 'hey what', 'sterolin', 'dj produc', 'author podcast interest includ pop cultur wwe sport paranorm tweet lot song lyric game', 'south', 'desper michael follow', 'manag editor http co ep vf kqfk miami dolphin fan sinc avid ball watcher husker sinc', 'blade', 'louisvil public school home lion roar excel prepar student futur', 'airhead lol find somewher yellow brick road', 'sc princesskathey', 'internet market consult author love seo sem social media inbound market blog startup follow valpopescu', 'largest multilingu collect real time aviat news', 'one coldplay so edsheeran thescript bastil http co kpg ux vyk still laugh http co kfpa jo ml', 'simpl', 'fine ass soul snatcher soft spoken ratchet photograph lover chees fri snap noti saidthecat', 'love kid mr zil mum dad dog arsen stoke newington born bred', 'love work alot great relationship friend famili great alot fun well', 'parkland la sall univers volleybal', 'tom editori page editor beaumont enterpris alway interest go se texa especi anyth connect polit', 'bot pesad tweet random', 'food mu', 'rest easi carlito', 'nice guy baha ponder apologet religion atheism opinion mine may may agre other peac', 'life short even care uofl nurs major k jazmyn twin', 'quiet art dodger lefti bucn letsgopen steelersn mufc dubnat', 'http co b tphsvqmj', 'freelanc photograph owner editor onlin newspap catch instagram youtub usernam', 'live sunni wilmington nc ambassador wilmington chamber commerc husband also second home suburb pittsburgh', 'much everyth vice music film tv write photographi blog social media technolog radio sport', 'match busi need help social media mum train social media manag featur guardian mailonlin', 'tweet http co oj zivzni mp best seller new releas genr particip amazon eu associ programm', 'develop softwar qt qml io android blackberri tizen linux osx etc', 'allah obey messeng merci upon ali imran', 'love market writer former airlin pilot health exercis nut work infusionsoft founder http co tmcmikt r view', 'publish origin work author guilti pleasur', 'draw draw draw', 'mit data scienc start develop advanc analyt base intuit data flow technolog', 'comic book head dick small identifi big dick nigga transbigdick live cleveland beat occas eat ass', 'syracus ig chipndal', 'help creat market campaign recognis origin valu driven tweet joshchandl', 'fwc street wear ig liljaysoici', 'freedom loot', 'gift talent admistr environment scienc artist garden son born rais new orlean gone global', 'serv least give least go save matthew', 'sleep dream maev see feel sweetest relief imagin', 'husband father grandfath', 'free spirit wild heart', 'great white shark', 'videogam relaps pacaddict mahjong play tv watch window phone love progress pro elector reform cyborg creatur', 'muslim footbal ynwa liverpool gerrard thanksstevi kop kopit aboutrika jan anticoup palestin syria', 'highli impos review', 'ant man enough giant man figur make tough enough someday invent anoth persona', 'tran gay feminist thank contributor gww review newsarama hit ck cucco gmail com icon eiffelart', 'penn state grad architect design', '', 'liter live shawn mend smile shawn pleas follow kid love pleas come greec', 'fue en ese entonc cuando dej de huir porqu di cuenta de que era la nica que segu', 'listen find real job half man shade shi older ladi ig keneamazu', 'bot post tribut befit god deathmtn banner metroidbabi power wordnik', 'everyth okay coolio bean', 'perform partner control', 'ronzoni lead pasta brand provid healthi meal entir famili', 'downtown orlando premier nightclub entertain complex music venu year formerli name fireston live tweet us info show', 'one man love thing geek', 'buzzbuzzhom improv way peopl search new construct home queen bee buzzbuzzhom', 'kumpulan berita terkini', 'rona largest canadian distributor retail hardwar home renov garden product rona', 'ceo founder loui espinoza came back musician musician record label musician rock avenu record usa creat', 'biolog student univers hull love footbal arsen fc', 'decid', '', 'atheist sport fan metalhead', 'accid crime scene reconstructionist love anim support sever anim rescu chariti', 'southbayla scumbag chico', 'wavi', 'commun builder connector rescu dog collector ucla er whiskey taco tech doer thing ga la dtla grid', 'never give meet sunshin happen even dont think', 'page dedic amaz present host interview rayascoop', 'set rais man glori', 'god within fail', 'writer focu sport sport law gender sport work found vicesport deadspin knbr fangraph among other find hangingslid gmail', 'god first live beyond statu inspir exist teamush teamlh teamscorpio', 'sofo', '', 'digit assist blogger interest luxuri fashion sustain design dimplesblog hotmail co uk', 'san diego', 'father awesom son canadian men team support forev loyal leaf fan tfc l pa voic sole opinion', 'relat life long detroit rt endors huffpostpol editori fellow michiganstateu spartan', 'snatch girl trippin line like fish snapchat dcd', 'escrib en milenio esquirelat letra libr stargaz en est negocio si tien fama de monstruo ere una estrella want pop idol', 'editor beauti guid citylin beauti expert', 'babi perfect', 'com aviat specialis recruit highli skill aviat aerospac profession aviat job within design mainten repair', 'tweet relat ge gener elect', 'sick want differ', 'love surf take care dog photograph full time onlin market', 'fit fairi godmoth nasm certifi trainer award win writer lb lost tko wife sneez blog post get sicker fitfluenti', 'kent state psycholog major tri valley class', 'germani band tv show youtub', 'meh', 'huge fan doctor reader book writer stuff futur novelist full time procrastin realli mad woman pen', 'ds news reddit', 'thedalailama gsu statenotsouthern chemistri', 'hertfordshir', 'cumberbitch cumbercollect account benedict sherlock go find bore saw hamlet oct', 'follow instagram misbritbrit', 'stop drink captain morgan put foot proud sweetheart kb philadelphia esu', 'gabriel aka frost angel surpris vessel diabet yet vesselofamoos sexi angel spn rp comicalhalfl', 'base belong us', 'visit benicia great day bay', 'advoc thing natur lover rich soil food old school flock redefin icon american farm share design beauti bounti', 'name actual nanci', '', 'pete pigeon superhero', 'turn dream realiti allglorytogod wccc petroleum oil technolog', 'http co rgtv drj', 'one adork warcraft player lil ms f ckin sunshin gimm beard geek cat coffe n bacon ye awesom fart oh pirat joopit', 'guy thing one time stuff like skype vusi manana ig rev nana', 'world fastest grow seo small big job servic buyer seller meet', 'thisschmoney myfamili', 'din navajo nativ american american indin american', 'walk away instagram gpetern', 'evoluci n', 'czech adult model pornograph actress inch natur breast current livin london follow retweet everi day luv u', 'illustr artist design author http co zami pcv tip advic freelanc infoartblog graphictid', 'mermaid dont homework', 'iraq iraqi armenian http co k rxgfrwpl', 'discipl husband father son pastor author fb http co vtyonb cz teamjesu kingdomcoven hypergrac navyvet', 'current bun time humanproblem', 'tweet inspir fun unusu extraordinari thought delici relev liver liveposit craphappen persever happinessexist', 'christ follow husband dad pastor love local church leadership toronto mapl leaf fan judg', 'rip carterrio johnson', 'fav markipli jack septic eye stevoptweet bubblebutt c markipliershero septicarmi meowipliersquad dayyss x', 'phd student polit theori vice freelanc newfoundland exil write canada stuff pic courtesi fogtownfemm', 'hi base hertford interest work home help other achiev learn http co h htrnyj', 'geek dad husband geopolit photographi coin car financi foodi pro famili pro militari pro capit pro america', 'job dvr watcher mitsubishi drive burger lovin jordan buy wooooooo coolest daddi world ever seen wooooooo elbow drop', 'cover latest news area scienc tell us think weekli scientif invent discoveri', 'mechan mechatron engin bing watcher meantim tech news addict pgp http co tliufa', 'hi let friend', '', 'hello time lord age proud work class year old dog call muttley die rd june rip refugeeswelcom', 'primeonli onlin surplu electron power adapt comput part laser optic industri control beekeep suppli new us seller', 'hustlerneur frg foreign', 'wsu', 'king eric cantona time ysb', 'sport writer capit baltimor sun media group stadium journey ny jet yanke terp marist columbia md via nj w wife daughter border terrier', 'paradigm hifter follow yourbeautybliss order iconoclast http co ybodpzsuja', 'link news dominican', 'highli plusher deal', 'dah vy multimedia artist pianist http co wbwnqj iwt', 'want ask accomplish given new limitless possibl exist beyond scope meagr realiti', 'excus got spell test', 'dreamer love life good peopl like live countrysid encircl pet write poem read life', 'wait meet lil princess feb th', 'gamer take bullshit anyon', 'reptil lover owner custom handmad decor reptil check etsi shop messag us question order', 'assassin creed news reddit', 'get free bitcoin http co bn sdbjb btc faucet', 'hull band n eminem', 'resum http co qq olv qpl', 'charl franci medit teacher huffpost blogger author mind medit made simpl guid find true inner peac quot love', 'gay ny costa rican guatemalan', 'theopaph sbswinner sbsmonthlywinn rank th uk review onlin pmlunch fblikehour host seen madeinle', 'loveahappyend lifestyl magazin contributor uk us canada lahe', 'sina costum artist singer chief editor cohakumagazin german ambassador scg', 'deb n hair salon award win hairdress loreal colour trophi region final winner stylist rikki theodosi instagram rikkitheodosi', 'sorri lame usernam', 'hi sindi love ulzzang gyaru fashion makeup circl contact coffe', 'updat news upcom event confboardofcda live tweet event', 'take back basic simpl life', 'johnstown tomahawk junior hockey organ proud member north american hockey leagu', 'product grace search everyday grace sometim sassi mostli southern woman love jesu life laughter latt extj', 'lancashir music station fm chorley fm preston south ribbl fm blackburn darwen hyndburn snapchat thebeeradio', 'alt write twitter internet superstar lord daddi dont follow plz anyth spici person main twitter live', 'ilona horvath busi woman musician artist kind let beauti melt soul', 'mari tanya daughter shauni chantel shanic also two grandson ryli kayn', 'rough tasteless', 'youtub gamer boyfriend got life', 'still rip dad', '', 'love fuck lot straight lesbian boy girl welcom follow dm contact', 'director global brand busi develop mullenlowegroup former yacht queen intersailclub', 'alex cena financi analyst equiti research profession institut investor avid outdoorsman photograph', 'tweet dumb stuff includ limit superhero tokusatsu anim walk dead robit video game total loser', 'presid founder propheta commun inc manhattan base public relat agenc team bridg gap percept realiti', 'basic cure world problem erectil dysfunct', 'tri refigur thing fisheri marin ucdbc', 'offici account st pancra intern destin station transport dine shop art cultur', 'teamstupidaf teamskinnyaf teamdrinkspiritonsundaytogetspiritu teamgetdrunktweetwakeupdelet teamdontcar teamsupport teammafisi teamhigh teamteam', 'love memori luke skywalk aint dead yet miss hw', 'crowdsourc innov finnd connect fed govt industri academia solv hard problem overcom obstacl contract process', 'crazi one misfit rebel troublemak', 'member haunt event uk team global cpfp manag ppg pmc', 'lover fighter network thing men', 'bang thi head rock thi beard circl thi pit hoist thi ale rejoic also drink beer vocal allfatheruk', 'mose make tea hebrew', 'person assist websit admin wildoutcrewgh crazi love bae favorit', 'rep summer club zant live night rememb never forget view', 'stay focus extra sparkley ch', 'five hospit florida hospit largest hospit system serv volusia flagler counti resid', 'alex g rard draw badass cute thing get touch contact icybomb', 'thought atheist realiz god', 'profession footbal qprfc nikeuk athlet co founder excelrac co founder ca footbal cours proud dad', 'holland enterpris freak harvick periscop dad nascar harvickn thecup thewin cowboy trojan bama dodger thankatruck', 'staff columnist toronto star write saturday news mon wed five neat guy opinion page email hmallick thestar ca', 'footbal enthusiast mufc redarmi bastian schweinsteig manchesterisr', 'growth hacker nerd onlin market manag vionelfilm vionel also foodi gym junki notori travel blog http co omol oqmj', 'blackfish born prairi heart ocean tilikum kiska freelolita tweet taiji seashepherd opgrindini', 'peac life love freedom music r p ashley mccrae r p kk jetlif snobmob tde tgod highpoint allcap instagram ms kushington', 'chair peopleslobbyusa vicar firsttrinitychi tweet progress polit global polit economi snarki theolog miley cyru', 'say say gone', 'professor philosophi citi univers new york', 'die wanna go hell caus piec shit hard fuck tell', 'deltek govwin solut design specif gov contractor aim grow busi win contract', 'yearsold', 'perhap insan see life rather cervant', 'human reduc cat popul via tnr serv model mentor commun vision end euthanasia cat shelter', 'regelmatig nieuw tip foto video inspirerend quot eigenaar van cadeau nl tshirt nl', 'twitter page mission commun river citi church', 'hi everyon machinima partner youtub http co fx frbwkq sub twitch dolphin dive pro cambridgeshir', 'defend secular space feminist sometim writer sometim reader', 'glad live world octob', 'ibm system middlewar hardwar built today digit economi follow ibm social comput guidelin maintain catnickeri skatzenmai', 'treat like harri style would treat', 'puertorican love danc play guitar music mean lot', 'ch senior thespian', 'new improv appl ibear hd', 'never work alon', 'arsen theozilan manuel lanzini marc bartra adam lallana enthusiast', 'sing band nascum engadget report gingercast gingercast cat lord', 'strafford high school locat strafford mo', 'like imperfect poem incomplet piec art flaw still flawless access nj lj', 'sharkwav mine', 'alphacrew', 'offici twitter account purdu univers', 'sahmama tri figur go slim world stone loser weightloss pblogger dash autism thrown fun', 'technolog news blog http co kr fg e u', 'suffer much pep need pep outlet love genr fiction tv analysi liber polit wine contributor http co laglmkjkkm', 'god madridista', 'account tri keep track everyth happen popular subreddit reddit bit simpli post other post reddit', 'luxuri good store featur watch leather silver jewelleri gun rifl maker bruton street w j qx', 'happi wife mom blogger function jesu coffe', 'duck', 'inspiritangelbabyarmyboicestarlight tionlovelyzstan', 'structur biolog bioinformat cephalopod felid comic butt team gay team poli', 'god bless', 'pdx portland state univers student record connect', 'trix kid', 'market http co il mj xzsq work global recogn compani deltek pet fish passion fli boat awesom life', 'wsra associ recycl profession work expand knowledg enhanc skill advanc career member', 'bitter iri west stan iwd', 'grow margin crop poor land', 'littl danger eye wanna know plan maronitheboss call babe maturecont rp reckless gotham', 'entertain enetepreneur event consult super model sanguin adventer profession dancer creativ', 'vi vi r call mayb two dad queria rica http co pygqi sfx nat bea vic', 'struggl build break', 'god love yoga health luxuri washingtonian chicago hoya bison tri balanc lawyer half yogini half', 'kind big deal', 'simpl run chic line simpl like life simpl life race comfort', 'http co vb yj e', 'basic phan trash tweet random shit k bye', 'friendli excit pop music forum discuss pop music cultur join today get access free download', '', 'wife colin mama daniel kyle joshua reg blogger amateur photograph teach assist reader teach student painter', 'tweet relat ge gener elect', 'runner cyclist reader book lover anim beer connoisseur vegan', 'demon swordsman makaalbarn mrcoolguysoul everyth use drown sad look toward tomorrow sserp multirp', 'lightskin princess mix chick fifteen prove wrong ashtin cade foulger', 'entrepreneur networkmarket profession twitter instagram market coach beginn guid twitter recruit http co olk yk zc', 'design web profession internet fangirl netflix addict', 'otrapink grade c c caca disgust', 'dunde home away dtid', 'mean girl', 'probabl somewher jennaaucoin stfx', 'play call duti odinesport lan nerv hankzi bae', 'ignatiu l donnelli associ professor old weird american secret canadian gild age digit geek game big altern two fist histori', 'sing supper', 'yeah sorta jazzi red sox patriot bruin terp', 'top gun elit u south lake', 'win learn never lose', 'white girl phenomenon guid thephenomenale youtub vlogger train super smash brother addict colleg senior', 'homemad cake jar est june sierrassweetlay ssu', 'specialis digit pr affili market brand collabor follow us instagram http co ldykjrnwv', 'michael janet jackson inspir mani peopl music danc michael effort help children dont ever forget michael jackson', 'lover life lover christ', 'graphic mostli im bore im play watch streamerino yo scandinavian', 'embarqu expresso de hogwart com gent desd', 'scorpio season among us shadesofsh', 'destini game news reddit', 'technolog news blog http co kr fg e u', 'year young montreal piec john abbott colleg', 'liltunechi malekros izzoland aubreeros panama maxb gunzworld lilli lebron ava', 'full time dreamer vibe master', 'best thing life unseen close eye kiss laugh dream', 'analyz dream year use psychoanalyt techniqu jung freud etc dream alcohol addict ptsd recoveri issu', 'viaj trave de aventura medida en bolivia expedicion x amplia experiencia en manejo road en la amazon el altiplano dakar overland', 'find local hookup casual sex discreet affair', 'badlandsgrl shypunk ur chocol donut', 'color comic', 'donorhut make fundrais easi best free safe secur accept donat onlin directli bank account', 'award win produc theatr belfast month conor mcpherson nightal oct', 'meh', 'northwelland busi improv area home thrive divers blend retail restaur servic canada vibrant rose citi', 'rt mean love two favorit thing commit chang expert fuck constitut say constitut', '', 'hard rock band gulf coast usa new adrift e p soon', 'os rock erreap la felicidad es una carta de la baraja itsirenneg instagram sergiiip snap sergiiip', 'offer artist audienc unpreced opportun artist explor collabor big ear return march april', 'cpa busi owner write everi day small busi public polici washington post weekli forb inc huffpo entrepreneur', 'born sweet delight born endless night herehavemyheart littl lamb', 'youngstown warren urban radio station', 'intermountain region sport comment sociopolit issu dislik major parti veteran advoc reform vamc utpol natsec', 'bodi made video game', 'tune theboxshowng sat pm rainbow fm lag wed pm sapientia fm onitsha friday carita fm enugu pm bca radio abia pm ksmc kaduna pm', 'block la familia wash ht help get son p get mauri flow mauri show', 'pizza']\n"
     ]
    }
   ],
   "source": [
    "liste = []\n",
    "for j in range(1000):\n",
    "    metin = re.sub(\"[^a-zA-Z]\", \" \", data1.description[j])\n",
    "    metin = metin.lower()\n",
    "    metin = metin.split()\n",
    "    metin = [ps.stem(i) for i in metin if not i in set(stopwords.words(\"english\"))]\n",
    "    metinson = \" \".join(metin)\n",
    "    liste.append(metinson)\n",
    "\n",
    "print(liste)"
   ]
  },
  {
   "cell_type": "code",
   "execution_count": 29,
   "id": "b2a9852a",
   "metadata": {},
   "outputs": [],
   "source": [
    "# Veri setinde en sık kullanılan kelimeler\n",
    "\n",
    "from sklearn.feature_extraction.text import CountVectorizer\n",
    "cv = CountVectorizer() # nesne oluşturalım.\n",
    "# bağımsız değişken : konuşmalar\n",
    "x = cv.fit_transform(liste).toarray() # listedeki verileri al ve array e çevir.\n",
    "# bağımlı değişken : cinsiyet\n",
    "y = data1.iloc[:1000, 0].values # 0. sütuna göre bin satır al"
   ]
  },
  {
   "cell_type": "code",
   "execution_count": 30,
   "id": "a5b053ae",
   "metadata": {},
   "outputs": [
    {
     "data": {
      "text/plain": [
       "array([[0, 0, 0, ..., 0, 0, 0],\n",
       "       [0, 0, 0, ..., 0, 0, 0],\n",
       "       [0, 0, 0, ..., 0, 0, 0],\n",
       "       ...,\n",
       "       [0, 0, 0, ..., 0, 0, 0],\n",
       "       [0, 0, 0, ..., 0, 0, 0],\n",
       "       [0, 0, 0, ..., 0, 0, 0]], dtype=int64)"
      ]
     },
     "execution_count": 30,
     "metadata": {},
     "output_type": "execute_result"
    }
   ],
   "source": [
    "x"
   ]
  },
  {
   "cell_type": "code",
   "execution_count": 31,
   "id": "c6b0b4db",
   "metadata": {},
   "outputs": [
    {
     "data": {
      "text/plain": [
       "array([0, 0, 0, 0, 1, 1, 0, 0, 1, 1, 0, 0, 1, 0, 1, 1, 0, 1, 1, 1, 0, 0,\n",
       "       1, 0, 0, 1, 0, 0, 0, 1, 0, 0, 0, 0, 1, 0, 0, 0, 0, 0, 0, 0, 0, 1,\n",
       "       0, 1, 0, 1, 0, 0, 0, 1, 0, 0, 0, 0, 1, 1, 0, 1, 0, 0, 1, 1, 1, 0,\n",
       "       0, 0, 0, 0, 1, 0, 1, 0, 0, 1, 1, 0, 1, 0, 0, 0, 1, 0, 0, 0, 0, 0,\n",
       "       0, 0, 1, 0, 0, 1, 0, 0, 1, 1, 0, 1, 0, 1, 0, 0, 1, 1, 0, 1, 0, 0,\n",
       "       0, 0, 0, 1, 1, 0, 0, 1, 0, 1, 0, 1, 1, 0, 1, 0, 0, 1, 0, 1, 0, 0,\n",
       "       1, 0, 1, 0, 1, 1, 0, 1, 0, 0, 0, 0, 0, 0, 0, 0, 0, 0, 0, 0, 0, 0,\n",
       "       1, 0, 0, 1, 0, 0, 1, 0, 1, 0, 1, 0, 1, 0, 1, 1, 0, 1, 0, 0, 0, 0,\n",
       "       0, 0, 0, 1, 0, 0, 0, 1, 1, 0, 0, 0, 0, 0, 0, 0, 1, 0, 1, 1, 1, 0,\n",
       "       0, 0, 1, 0, 0, 0, 0, 1, 0, 0, 1, 1, 0, 0, 1, 0, 0, 0, 1, 0, 0, 0,\n",
       "       0, 1, 1, 1, 1, 0, 0, 0, 0, 1, 1, 0, 1, 0, 0, 0, 1, 0, 0, 0, 0, 1,\n",
       "       1, 0, 0, 0, 1, 0, 0, 0, 1, 1, 0, 0, 0, 0, 1, 1, 1, 0, 1, 1, 0, 1,\n",
       "       1, 0, 0, 0, 1, 1, 0, 1, 0, 1, 0, 0, 0, 1, 1, 0, 0, 0, 1, 0, 0, 0,\n",
       "       1, 0, 1, 0, 0, 0, 0, 0, 1, 1, 1, 0, 0, 0, 0, 0, 1, 0, 1, 1, 1, 0,\n",
       "       0, 0, 1, 1, 0, 0, 0, 0, 0, 0, 0, 0, 0, 1, 0, 0, 0, 0, 0, 0, 0, 1,\n",
       "       0, 0, 0, 0, 0, 0, 1, 0, 0, 0, 0, 0, 0, 0, 0, 0, 1, 1, 1, 1, 0, 0,\n",
       "       0, 0, 1, 0, 0, 0, 1, 1, 0, 0, 0, 1, 1, 0, 1, 0, 0, 0, 0, 0, 1, 0,\n",
       "       0, 0, 0, 0, 0, 0, 0, 0, 1, 0, 0, 0, 0, 0, 1, 1, 0, 0, 0, 0, 1, 1,\n",
       "       1, 0, 0, 1, 0, 1, 0, 1, 0, 0, 0, 0, 0, 0, 0, 0, 0, 0, 0, 0, 0, 0,\n",
       "       0, 0, 0, 0, 0, 0, 1, 0, 0, 0, 1, 0, 0, 1, 0, 1, 0, 0, 0, 0, 0, 0,\n",
       "       0, 0, 0, 1, 0, 0, 0, 0, 0, 0, 0, 0, 0, 1, 1, 1, 0, 0, 0, 0, 1, 0,\n",
       "       1, 0, 0, 0, 0, 0, 0, 0, 0, 1, 0, 0, 0, 1, 0, 0, 0, 0, 0, 0, 0, 1,\n",
       "       1, 0, 0, 0, 0, 1, 0, 0, 0, 0, 0, 1, 1, 0, 1, 1, 0, 1, 1, 0, 0, 0,\n",
       "       0, 0, 0, 1, 0, 0, 0, 0, 0, 0, 0, 0, 0, 0, 1, 1, 0, 0, 0, 1, 0, 1,\n",
       "       0, 1, 0, 1, 0, 1, 0, 1, 1, 0, 1, 1, 0, 0, 1, 0, 1, 0, 0, 1, 0, 0,\n",
       "       0, 0, 0, 1, 0, 1, 1, 1, 1, 0, 0, 0, 1, 1, 1, 0, 0, 1, 0, 0, 0, 0,\n",
       "       0, 0, 0, 0, 0, 1, 0, 0, 1, 0, 0, 1, 1, 1, 0, 0, 0, 1, 0, 0, 0, 0,\n",
       "       0, 0, 0, 0, 0, 0, 0, 0, 0, 1, 0, 0, 0, 0, 0, 0, 1, 1, 1, 0, 1, 1,\n",
       "       0, 0, 1, 0, 0, 0, 1, 0, 0, 0, 0, 0, 1, 1, 1, 0, 1, 0, 1, 0, 1, 0,\n",
       "       1, 0, 0, 0, 1, 1, 0, 0, 0, 0, 0, 1, 1, 1, 0, 0, 0, 0, 1, 0, 1, 1,\n",
       "       0, 1, 0, 0, 0, 0, 1, 0, 0, 0, 0, 0, 0, 1, 0, 0, 0, 0, 1, 0, 1, 1,\n",
       "       0, 0, 0, 0, 0, 0, 0, 0, 0, 1, 1, 0, 0, 1, 0, 1, 0, 0, 1, 0, 0, 1,\n",
       "       1, 0, 1, 1, 0, 0, 1, 0, 0, 0, 0, 0, 0, 0, 0, 0, 0, 0, 0, 0, 0, 1,\n",
       "       0, 1, 0, 1, 1, 0, 0, 0, 0, 0, 0, 1, 0, 1, 0, 0, 1, 0, 0, 0, 0, 0,\n",
       "       0, 0, 0, 0, 1, 1, 0, 1, 0, 1, 1, 1, 1, 0, 1, 1, 0, 1, 0, 1, 0, 0,\n",
       "       0, 0, 0, 0, 0, 0, 0, 1, 1, 1, 0, 1, 0, 1, 0, 0, 0, 1, 1, 0, 0, 0,\n",
       "       0, 0, 1, 1, 0, 0, 0, 1, 0, 0, 1, 0, 1, 0, 1, 0, 1, 1, 0, 1, 0, 0,\n",
       "       1, 0, 0, 0, 0, 0, 0, 0, 1, 1, 0, 0, 0, 1, 0, 0, 1, 0, 0, 0, 1, 1,\n",
       "       1, 0, 0, 0, 0, 0, 1, 0, 0, 0, 0, 0, 1, 0, 0, 1, 0, 1, 0, 1, 0, 1,\n",
       "       1, 0, 0, 0, 1, 0, 1, 1, 0, 0, 0, 0, 0, 0, 0, 0, 0, 0, 0, 0, 0, 0,\n",
       "       0, 0, 1, 0, 0, 0, 0, 0, 1, 0, 1, 1, 1, 0, 0, 0, 0, 0, 1, 0, 0, 0,\n",
       "       0, 0, 1, 1, 0, 0, 1, 1, 0, 0, 0, 0, 0, 1, 1, 0, 0, 1, 0, 1, 0, 0,\n",
       "       1, 1, 0, 0, 0, 0, 0, 1, 0, 0, 0, 0, 0, 0, 0, 1, 1, 0, 0, 1, 1, 0,\n",
       "       1, 1, 0, 0, 1, 1, 1, 1, 0, 0, 1, 1, 0, 0, 0, 0, 1, 0, 1, 1, 0, 0,\n",
       "       1, 0, 0, 1, 0, 0, 0, 0, 1, 0, 0, 0, 0, 1, 1, 0, 0, 0, 0, 0, 0, 0,\n",
       "       0, 0, 0, 1, 0, 0, 0, 0, 0, 1], dtype=int64)"
      ]
     },
     "execution_count": 31,
     "metadata": {},
     "output_type": "execute_result"
    }
   ],
   "source": [
    "y"
   ]
  },
  {
   "cell_type": "code",
   "execution_count": 32,
   "id": "165ede18",
   "metadata": {},
   "outputs": [],
   "source": [
    "from sklearn.model_selection import train_test_split\n",
    "x_train, x_test, y_train, y_test = train_test_split(x,y, test_size=0.2, random_state=33)"
   ]
  },
  {
   "cell_type": "code",
   "execution_count": 37,
   "id": "5a1db8ab",
   "metadata": {},
   "outputs": [],
   "source": [
    "# Navibayes - istatistiksel hesaplamarı için kullanılır \n",
    "# Bununla elimizdeki verilerin doğruluğunu önce fit edeceiz sonra da hesaplayacağız. \n",
    "\n",
    "from sklearn.naive_bayes import GaussianNB\n",
    "gn = GaussianNB()\n",
    "\n",
    "gn.fit(x_train, y_train)\n",
    "yhead= gn.predict(x_test)"
   ]
  },
  {
   "cell_type": "code",
   "execution_count": 38,
   "id": "b2497cc1",
   "metadata": {},
   "outputs": [
    {
     "name": "stdout",
     "output_type": "stream",
     "text": [
      "[[89 42]\n",
      " [23 46]]\n"
     ]
    }
   ],
   "source": [
    "from sklearn.metrics import confusion_matrix\n",
    "cm = confusion_matrix(y_test, yhead)\n",
    "print(cm)"
   ]
  },
  {
   "cell_type": "markdown",
   "id": "5d4d765b",
   "metadata": {},
   "source": [
    "-> kadınların söylediğinden 89 doğru 42 hatalı bulmuş.\n",
    "\n",
    "-> erkeklerde 46 doğru 23 hatalı bulmuş."
   ]
  },
  {
   "cell_type": "code",
   "execution_count": null,
   "id": "fd515304",
   "metadata": {},
   "outputs": [],
   "source": []
  }
 ],
 "metadata": {
  "kernelspec": {
   "display_name": "Python 3 (ipykernel)",
   "language": "python",
   "name": "python3"
  },
  "language_info": {
   "codemirror_mode": {
    "name": "ipython",
    "version": 3
   },
   "file_extension": ".py",
   "mimetype": "text/x-python",
   "name": "python",
   "nbconvert_exporter": "python",
   "pygments_lexer": "ipython3",
   "version": "3.11.5"
  }
 },
 "nbformat": 4,
 "nbformat_minor": 5
}
