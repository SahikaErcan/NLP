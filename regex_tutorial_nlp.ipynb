{
 "cells": [
  {
   "cell_type": "markdown",
   "id": "c5d1b29c",
   "metadata": {},
   "source": [
    "Düzenli ifadeler (Regular Expression - RegEx) şeklinde türkçeleştirdiğimiz re modülü bir metin içerisinde istediğimiz formattaki metinleri bulmamızı sağlar. Python ile birlikte gelen kütüphanelerden biri olan re modülü için herhangi bir kurulum işlemi yapmaya gerek yoktur. Modülü kullanmak için **import re** şeklinde içe aktarmak yeterli olacaktır.\n",
    "Bazı önemli sık kullanabileceğimiz RegEx fonksiyonlarına bakalım;\n",
    "* **findal()** metodu bulmak istenilen değeri tüm metinde arar ve kaç tane bulduysa bunları listeler.\n",
    "* **search()** metodu bulmak istenilen değerin metinde olup olmadığının bilgisini verir.\n",
    "* **endpos()** metodu metin içerisindeki karakterlerin toplam sayısını verir.\n",
    "\n",
    "#### Metakarakterler ve Bazı Özel Seriler\n",
    "\n",
    "Duruma göre karakterleri kullanarak belirlenen düzene uyan metinlerin araması yapılabilir.\n",
    "* \\ karakteri iki durum için kullanılır. Ya özel bir karakterden önce kullanılır ya da kendinden sonraki karakteri dikkate almaz\n",
    "* **^** karakteri iki durum için kullanılır. Ya ifadenin başlangıcını kontrol eder ya da hariç anlamına gelir yani **^** karakterinden sonra gelecek olan karakter ya da karakter kümesi aranmaz.\n",
    "* **$**\t... ile biten\n",
    "* **{ }** karakteri ile aranılan verinin hane sayısı belirtilir. Örneğin \\d{10} ifadesi ile 10 karakterli sayı araması yapılır.\n",
    "* **|** karakteri iki durumdan birinin seçilmesinde kullanılır.\n",
    "* **\" * \"** karakteri kendisinden önce bulunan karakterin tekrarlanan verilerini bulur. 0 kere de geçebilir 100 kere de geçebilir.\n",
    "* **+** karakteri kendisinden önce bulunan karakterin tekrarlanan verilerini bulur. 1 kere de geçebilir 100 kere de geçebilir.\n",
    "* **.** karakteri herhangi bir tek karakterin yerini tutar.\n",
    "* **[ ]** karakteri içerisine belirli karakterler yazılır ve bu karakterler aranır. Örneğin;\n",
    "    * [A-Z] A’dan Z’ye tüm BÜYÜK harfler.\n",
    "    * [a-z] A’dan Z’ye tüm küçük harfler.\n",
    "    * [0-9] 0’dan 9’a tüm rakamlar.\n",
    "* **( )** karakteri gruplamam yapmak için kullanılır.\n",
    "* **\\s** metindeki boşluğu yakalar.\n",
    "* **\\S** metindeki boşluk dışında kalan alanları yakalar.\n",
    "* **\\d** metindeki rakamları (0-9) yakalar.\n",
    "* **\\D** metindeki rakam dışında kalan alanları yakalar. \n",
    "\n",
    "Bu yapıları uygulama yaparak inceleyelim."
   ]
  },
  {
   "cell_type": "code",
   "execution_count": 1,
   "id": "8c094e54",
   "metadata": {},
   "outputs": [],
   "source": [
    "import re"
   ]
  },
  {
   "cell_type": "code",
   "execution_count": 37,
   "id": "de6573b2",
   "metadata": {},
   "outputs": [],
   "source": [
    "text1 = 'Telefon Numarası: 1235678912 E-posta: abC2@gmail.com'\n",
    "text2 = 'Telefon Numarası: (123)-567-8912 E-posta: absdsd@mail.com'\n",
    "text3 = 'Telefon Numarası: (349)-548-2531 E-posta: abC_456@gggggmail.com'\n",
    "text4 = 'Telefon numaraları: 1235678912 (123)-567-8912 (349)-548-2531'\n",
    "text5 = 'E-posta: abC2@gmail.com absdsd@mail.com abC_456@gggggmail.com abcd78@hotmail.com abc@xyz.io'"
   ]
  },
  {
   "cell_type": "code",
   "execution_count": 38,
   "id": "0aacb89d",
   "metadata": {},
   "outputs": [
    {
     "name": "stdout",
     "output_type": "stream",
     "text": [
      "['1235678912']\n"
     ]
    }
   ],
   "source": [
    "print(re.findall('\\d{10}', text1))\n",
    "# 10 karakterli rakamlardan oluşan veriyi listeler"
   ]
  },
  {
   "cell_type": "code",
   "execution_count": 68,
   "id": "62def381",
   "metadata": {},
   "outputs": [
    {
     "name": "stdout",
     "output_type": "stream",
     "text": [
      "['123', '567', '891']\n",
      "['(123)']\n",
      "['(123)-567-8912']\n",
      "['1235678912', '(123)-567-8912', '(349)-548-2531']\n",
      "['absdsd@mail.com']\n"
     ]
    }
   ],
   "source": [
    "print(re.findall('\\d{3}', text2))  # peşi sıra 3 karakterden oluşan rakamları listeler.\n",
    "print(re.findall('\\(\\d{3}\\)', text2))   # Parantez içerisinde peşisıra gelen 3 sayısal karakterli veriyi bulup listeler.\n",
    "                                        # Burada parantezleri metakarakter olarak almaması için \\ kullanılmıştır.\n",
    "print(re.findall('\\(\\d{3}\\)-\\d{3}-\\d{4}', text2))\n",
    "\n",
    "print(re.findall('\\d{10}|\\(\\d{3}\\)-\\d{3}-\\d{4}', text4)) # Burada | ifadesini kullandık. Böylece her iki durumu da aradı.\n",
    "print(re.findall('posta: ([a-z]+@g*mail\\.[a-zA-z]*)', text2))"
   ]
  },
  {
   "cell_type": "code",
   "execution_count": 43,
   "id": "0149e8a9",
   "metadata": {
    "scrolled": true
   },
   "outputs": [
    {
     "name": "stdout",
     "output_type": "stream",
     "text": [
      "['abC2@', 'absdsd@', '456@', 'abcd78@', 'abc@']\n",
      "['abC2@', 'absdsd@', 'abC_456@', 'abcd78@', 'abc@']\n",
      "['abC2@gmail.c', 'absdsd@mail.c', 'abC_456@gggggmail.c', 'abcd78@hotmail.c', 'abc@xyz.i']\n",
      "['abC2@gmail.com', 'absdsd@mail.com', 'abC_456@gggggmail.com', 'abcd78@hotmail.com', 'abc@xyz.io']\n",
      "['@gmail', '@mail', '@gggggmail']\n",
      "['@gmail', '@gggggmail']\n"
     ]
    }
   ],
   "source": [
    "print(re.findall('[a-z0-9A-Z]*@', text5))\n",
    "print(re.findall('[a-z0-9A-Z_]*@', text5))\n",
    "print(re.findall('[a-z0-9A-Z_]*@[a-z0-9A-Z]*\\.[a-zA-Z]', text5)) \n",
    "# Burada . karakterinden önce '\\' karakteri koyduk çünkü '.' metakarakter olarak kullanılır. \n",
    "# Görevi bir karakterin yerine geçmektir. Bu anlam karmaşanın önüne geçmek için '\\' karakteri konulur.\n",
    "print(re.findall('[a-z0-9A-Z_]*@[a-z0-9A-Z]*\\.[a-zA-Z]*', text5)) \n",
    "print(re.findall('@g*mail', text5)) # Burada g karakteri hiç geçmese de olur.\n",
    "print(re.findall('@g+mail', text5)) # Burada g karakteri yoksa alınmaz en az 1 tane olmalıdır."
   ]
  },
  {
   "cell_type": "markdown",
   "id": "899a319e",
   "metadata": {},
   "source": [
    "> Burada yaptığım gibi sizlerde karakterler ile oynayarak karakterlerin iyice aklınıza oturmasını sağlayabilirisiniz."
   ]
  },
  {
   "cell_type": "code",
   "execution_count": 72,
   "id": "73838b5c",
   "metadata": {},
   "outputs": [],
   "source": [
    "text='''\n",
    "Born Elon Reeve Musk\n",
    "June 28, 1971 (age 50)\n",
    "Pretoria, Transvaal, South Africa\n",
    "Citizenship \n",
    "South Africa (1971–present)\n",
    "Canada (1971–present)\n",
    "United States (2002–present)\n",
    "Education University of Pennsylvania (BS, BA)'''"
   ]
  },
  {
   "cell_type": "code",
   "execution_count": 73,
   "id": "d6530a86",
   "metadata": {},
   "outputs": [],
   "source": [
    "def get_pattern_match(pattern, text):\n",
    "    matches = re.findall(pattern, text)\n",
    "    if matches:\n",
    "        return matches[0]"
   ]
  },
  {
   "cell_type": "code",
   "execution_count": 74,
   "id": "f9a65a2e",
   "metadata": {},
   "outputs": [],
   "source": [
    "def extract_personal_information(text):\n",
    "    age = get_pattern_match('age (\\d+)', text)\n",
    "    full_name = get_pattern_match('Born(.*)\\n', text)\n",
    "    birth_date = get_pattern_match('Born.*\\n(.*)\\(age', text)\n",
    "    birth_place = get_pattern_match('\\(age.*\\n(.*)', text)\n",
    "    return {\n",
    "        'age': int(age),\n",
    "        'name': full_name.strip(),\n",
    "        'birth_date': birth_date.strip(),\n",
    "        'birth_place': birth_place.strip()\n",
    "    }"
   ]
  },
  {
   "cell_type": "code",
   "execution_count": 75,
   "id": "38a57ba8",
   "metadata": {},
   "outputs": [
    {
     "data": {
      "text/plain": [
       "{'age': 50,\n",
       " 'name': 'Elon Reeve Musk',\n",
       " 'birth_date': 'June 28, 1971',\n",
       " 'birth_place': 'Pretoria, Transvaal, South Africa'}"
      ]
     },
     "execution_count": 75,
     "metadata": {},
     "output_type": "execute_result"
    }
   ],
   "source": [
    "extract_personal_information(text)"
   ]
  },
  {
   "cell_type": "markdown",
   "id": "f4c5f309",
   "metadata": {},
   "source": [
    "**Ayrıca https://regex101.com/ bu siteyi de incelemek isteyebilirsiniz.**"
   ]
  },
  {
   "cell_type": "code",
   "execution_count": null,
   "id": "c0625f73",
   "metadata": {},
   "outputs": [],
   "source": []
  }
 ],
 "metadata": {
  "kernelspec": {
   "display_name": "Python 3 (ipykernel)",
   "language": "python",
   "name": "python3"
  },
  "language_info": {
   "codemirror_mode": {
    "name": "ipython",
    "version": 3
   },
   "file_extension": ".py",
   "mimetype": "text/x-python",
   "name": "python",
   "nbconvert_exporter": "python",
   "pygments_lexer": "ipython3",
   "version": "3.11.5"
  }
 },
 "nbformat": 4,
 "nbformat_minor": 5
}
